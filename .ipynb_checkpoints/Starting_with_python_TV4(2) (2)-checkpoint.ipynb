{
 "cells": [
  {
   "cell_type": "markdown",
   "metadata": {},
   "source": [
    "Make sure you fill in any place that says `YOUR CODE HERE` or \"YOUR ANSWER HERE\".\n",
    "\n",
    "Do not modify the blocks with `assert`. They provide you the capabilities to check your code.\n",
    "\n",
    "Fill your your name and instructor below:"
   ]
  },
  {
   "cell_type": "code",
   "execution_count": 19,
   "metadata": {},
   "outputs": [],
   "source": [
    "NAME = \"MOUHOU Assia\"\n",
    "INSTRUCTOR = \"Ignacio Roa\""
   ]
  },
  {
   "cell_type": "markdown",
   "metadata": {},
   "source": [
    "---"
   ]
  },
  {
   "cell_type": "markdown",
   "metadata": {
    "deletable": false,
    "editable": false,
    "id": "fBTD5kXKnzUR",
    "nbgrader": {
     "cell_type": "markdown",
     "checksum": "438b617cf45fe64da93225133f922471",
     "grade": false,
     "grade_id": "cell-736ee57df226b9c8",
     "locked": true,
     "schema_version": 3,
     "solution": false,
     "task": false
    }
   },
   "source": [
    "# Python and numerical methods\n",
    "\n",
    "The objective of this series of TP is to introduce you to\n",
    " * what is programming\n",
    " * what is an algorithm\n",
    "\n",
    "In order to keep things as simple as possible, we will use Python, as it's one of the simplest and yet powerfull language.\n",
    "\n",
    "\n",
    "## History\n",
    "\n",
    " * 1989: Creation by **Guido van Rossum** (At CWI, Netherland)\n",
    " * 1991: First public release\n",
    " * 1995: Guido van Rossum and python go to CNRI, USA\n",
    " * 1999: Computer Programming for Everybody (CNRI + DARPA)  \n",
    "  *Objective : python for **teaching** programming*\n",
    " * 2001: Python software fundation (free from governments)\n",
    " * 2008: version 3\n",
    " * 2013: widely use in post-graduate\n",
    " * 2018: **Guido van Rossum** quits as BDFL\n",
    " * 2018: 4th most popular language (behind Java, C and C++)\n",
    " * 2020: death of python 2.x?\n",
    "\n",
    "## Advantages of Python\n",
    "\n",
    " * Batteries included (+numpy, scipy, scikits)\n",
    " * Easy to learn\n",
    " * Easy communication\n",
    " * Efficient code\n",
    " * Universal\n",
    "\n",
    "## Install\n",
    "\n",
    " * Windows : anaconda + `conda` + `pip`\n",
    " * Linux : already install + `apt` + `pip --user`\n",
    " * Mac : homebrew + `brew python3` + `pip --user`\n",
    "\n",
    "## Interface\n",
    "\n",
    "vim+terminal / pycharm / spyder / jupyter / python / ...\n"
   ]
  },
  {
   "cell_type": "markdown",
   "metadata": {
    "deletable": false,
    "editable": false,
    "id": "w4_FWK78nzUW",
    "nbgrader": {
     "cell_type": "markdown",
     "checksum": "c81b5afe1e6ff61727b986612867e309",
     "grade": false,
     "grade_id": "cell-f589edaf9e6594e3",
     "locked": true,
     "schema_version": 3,
     "solution": false,
     "task": false
    }
   },
   "source": [
    "# Starting with python and jupyter"
   ]
  },
  {
   "cell_type": "markdown",
   "metadata": {
    "deletable": false,
    "editable": false,
    "id": "kaMHXu0MJyie",
    "nbgrader": {
     "cell_type": "markdown",
     "checksum": "121a42bc322bc4854daf2e37eb070564",
     "grade": false,
     "grade_id": "cell-7c005e3b86ce4cbb",
     "locked": true,
     "schema_version": 3,
     "solution": false,
     "task": false
    }
   },
   "source": [
    "## Hello World"
   ]
  },
  {
   "cell_type": "markdown",
   "metadata": {
    "deletable": false,
    "editable": false,
    "id": "uq5sFvpUnzUZ",
    "nbgrader": {
     "cell_type": "markdown",
     "checksum": "30ed9f5cfe2705bdb8cafe4348571c5d",
     "grade": false,
     "grade_id": "cell-9c36c93d94dfb9af",
     "locked": true,
     "schema_version": 3,
     "solution": false,
     "task": false
    }
   },
   "source": [
    "1. In the cell bellow type :\n",
    "```python\n",
    "print(\"Hello World !\")\n",
    "```\n",
    "3. Exectute the cell with 'Ctrl+Enter'"
   ]
  },
  {
   "cell_type": "code",
   "execution_count": 20,
   "metadata": {
    "colab": {
     "base_uri": "https://localhost:8080/"
    },
    "id": "oLaKbE7qnzUf",
    "outputId": "5f445e74-1b8d-400b-9ab2-7807865e61ea"
   },
   "outputs": [
    {
     "name": "stdout",
     "output_type": "stream",
     "text": [
      "Hello World !\n"
     ]
    }
   ],
   "source": [
    "print(\"Hello World !\")"
   ]
  },
  {
   "cell_type": "markdown",
   "metadata": {
    "deletable": false,
    "editable": false,
    "id": "JTrJYGLUnzUo",
    "nbgrader": {
     "cell_type": "markdown",
     "checksum": "9661c32267f2ad58ae39f37e285d6e08",
     "grade": false,
     "grade_id": "cell-3228fd957ef77575",
     "locked": true,
     "schema_version": 3,
     "solution": false,
     "task": false
    }
   },
   "source": [
    "We will code in python3. In order to execute a cell you can either press\n",
    " * the button `Run` at the top of the notebook\n",
    " * `Ctrl + Enter`\n",
    " * `Shift + Enter` which will also go to the next cell\n",
    " \n",
    "While a cell is waiting to be executed, a star will be present on the top left of the cell (`In [*]`)  \n",
    "Once the cell is executed, the star will be replaced by the run number.  \n",
    "This will allow you to remember in which order you executed your cell.\n",
    "\n",
    "Execute again the previous cell and see the number changing."
   ]
  },
  {
   "cell_type": "markdown",
   "metadata": {
    "deletable": false,
    "editable": false,
    "id": "Yy0-IbYenzUr",
    "nbgrader": {
     "cell_type": "markdown",
     "checksum": "694cc649b0300a4d3262dc311acba32f",
     "grade": false,
     "grade_id": "cell-9b838ce6d9c30b5f",
     "locked": true,
     "schema_version": 3,
     "solution": false,
     "task": false
    }
   },
   "source": [
    "## A useful calculator"
   ]
  },
  {
   "cell_type": "markdown",
   "metadata": {
    "deletable": false,
    "editable": false,
    "id": "kOvzJRSenzUt",
    "nbgrader": {
     "cell_type": "markdown",
     "checksum": "0dca7821e3214220d8f670eaec4dd927",
     "grade": false,
     "grade_id": "cell-61bff615da8f6f21",
     "locked": true,
     "schema_version": 3,
     "solution": false,
     "task": false
    }
   },
   "source": [
    "Execute the next cell"
   ]
  },
  {
   "cell_type": "code",
   "execution_count": 21,
   "metadata": {
    "colab": {
     "base_uri": "https://localhost:8080/"
    },
    "id": "RAEPV92jnzUx",
    "outputId": "1c8af711-1364-4f81-8bc6-1d70a059f522"
   },
   "outputs": [
    {
     "name": "stdout",
     "output_type": "stream",
     "text": [
      "2\n"
     ]
    }
   ],
   "source": [
    "a = 2\n",
    "print(a)"
   ]
  },
  {
   "cell_type": "markdown",
   "metadata": {
    "deletable": false,
    "editable": false,
    "id": "GIqcFr1WnzU4",
    "nbgrader": {
     "cell_type": "markdown",
     "checksum": "f2141f8c50c372360e7d45ceeaf18fcf",
     "grade": false,
     "grade_id": "cell-5281884adc51aba0",
     "locked": true,
     "schema_version": 3,
     "solution": false,
     "task": false
    }
   },
   "source": [
    "The value `2` has been put in variable called `a`\n",
    "\n",
    "Execute the next cell"
   ]
  },
  {
   "cell_type": "code",
   "execution_count": 29,
   "metadata": {
    "colab": {
     "base_uri": "https://localhost:8080/"
    },
    "id": "VZvUE9tnnzU6",
    "outputId": "2e8b8aba-da7b-4c31-e773-ee880d8d5997"
   },
   "outputs": [
    {
     "name": "stdout",
     "output_type": "stream",
     "text": [
      "10\n"
     ]
    }
   ],
   "source": [
    "a = a + 1\n",
    "print(a)"
   ]
  },
  {
   "cell_type": "markdown",
   "metadata": {
    "deletable": false,
    "editable": false,
    "id": "C3d_aqWbnzVB",
    "nbgrader": {
     "cell_type": "markdown",
     "checksum": "f9657d9a01fc106e7f3b247152683b1e",
     "grade": false,
     "grade_id": "cell-a82ccae8ed3068a4",
     "locked": true,
     "schema_version": 3,
     "solution": false,
     "task": false
    }
   },
   "source": [
    "We take the value stored in `a` and add `1` to it wich gives us `3` which we store a the same variable `a`.  \n",
    "So as you can see, what has been stored in one cell is accessible to the other cells (in futures executions obviously)\n",
    "\n",
    "Execute again the previous cell. See the number `In [3]` became `In [4]`\n",
    "\n",
    "As you can see now the result is not the same, it' now `4` because the previous execution of this same cell stored the value `3` in `a`.\n",
    "\n",
    "So be carefull, **order of execution matter**.\n",
    "\n",
    "In order to avoid misterious bugs, and to simplify my process of correction. you can regularly `restart the kernel` by pressing ↻ at the top of the notebook.  \n",
    "Which will forget any execution you have done before.  \n",
    "Then you can reexecute them one by one or all of them (using the option in the `cell` menu)\n",
    "\n",
    "That will be the first thing that I will do in order to evaluate your work."
   ]
  },
  {
   "cell_type": "code",
   "execution_count": 30,
   "metadata": {
    "id": "FWkfFw8KnzVF"
   },
   "outputs": [
    {
     "name": "stdout",
     "output_type": "stream",
     "text": [
      "13\n"
     ]
    }
   ],
   "source": [
    "b = 3\n",
    "c = a + b\n",
    "print(c)"
   ]
  },
  {
   "cell_type": "markdown",
   "metadata": {
    "deletable": false,
    "editable": false,
    "id": "8V4HMTClnzVM",
    "nbgrader": {
     "cell_type": "markdown",
     "checksum": "2a11448ec25f8a6124c55ea4a6a41f00",
     "grade": false,
     "grade_id": "cell-28b9cdebdad74d45",
     "locked": true,
     "schema_version": 3,
     "solution": false,
     "task": false
    }
   },
   "source": [
    "It is important to use the `print` function in order to see the result."
   ]
  },
  {
   "cell_type": "markdown",
   "metadata": {
    "id": "7_cEV4NVnzVP"
   },
   "source": [
    "Use this to compute the volume `V` of a sphere of radius `R=2` using `Pi=3.14`.  \n",
    "$$ V = \\frac{4}{3} \\pi r^3 $$\n",
    "Power elevation is made with the operator `**`"
   ]
  },
  {
   "cell_type": "code",
   "execution_count": 31,
   "metadata": {
    "colab": {
     "base_uri": "https://localhost:8080/"
    },
    "id": "XZn5dltRnzVQ",
    "outputId": "703888d6-a911-4804-ac3b-96c8e16e4802"
   },
   "outputs": [
    {
     "name": "stdout",
     "output_type": "stream",
     "text": [
      "33.49333333333333\n"
     ]
    }
   ],
   "source": [
    "v=4/3*3.14*2**3\n",
    "print(v)"
   ]
  },
  {
   "cell_type": "markdown",
   "metadata": {
    "deletable": false,
    "editable": false,
    "id": "qC7ss6UnnzVb",
    "nbgrader": {
     "cell_type": "markdown",
     "checksum": "5932cb272484e4607278e2f32c27bc0c",
     "grade": false,
     "grade_id": "cell-b30be58eb69d8c57",
     "locked": true,
     "schema_version": 3,
     "solution": false,
     "task": false
    }
   },
   "source": [
    "In the future we would prefer a better value for $\\pi$."
   ]
  },
  {
   "cell_type": "code",
   "execution_count": 35,
   "metadata": {
    "id": "EbkPEeW6nzVd"
   },
   "outputs": [
    {
     "ename": "NameError",
     "evalue": "name 'pi' is not defined",
     "output_type": "error",
     "traceback": [
      "\u001b[1;31m---------------------------------------------------------------------------\u001b[0m",
      "\u001b[1;31mNameError\u001b[0m                                 Traceback (most recent call last)",
      "Cell \u001b[1;32mIn [35], line 1\u001b[0m\n\u001b[1;32m----> 1\u001b[0m \u001b[38;5;28mprint\u001b[39m(\u001b[43mpi\u001b[49m)\n",
      "\u001b[1;31mNameError\u001b[0m: name 'pi' is not defined"
     ]
    }
   ],
   "source": [
    "print(pi)"
   ]
  },
  {
   "cell_type": "markdown",
   "metadata": {
    "deletable": false,
    "editable": false,
    "id": "joxmebqonzVp",
    "nbgrader": {
     "cell_type": "markdown",
     "checksum": "118fa43407bea7fca0a82e0c6be55ca3",
     "grade": false,
     "grade_id": "cell-9938e7469a1eeb32",
     "locked": true,
     "schema_version": 3,
     "solution": false,
     "task": false
    }
   },
   "source": [
    "Arg ! This is what happen when python is not happy  \n",
    "In this case it is saying that you need to tell him where to find the value of `pi`"
   ]
  },
  {
   "cell_type": "code",
   "execution_count": 17,
   "metadata": {
    "id": "GRYLgt2anzVs"
   },
   "outputs": [
    {
     "name": "stdout",
     "output_type": "stream",
     "text": [
      "3.141592653589793\n"
     ]
    }
   ],
   "source": [
    "# We import the full math package in the math namespace\n",
    "import math\n",
    "print(math.pi)"
   ]
  },
  {
   "cell_type": "markdown",
   "metadata": {
    "deletable": false,
    "editable": false,
    "id": "TVp9beG2nzVx",
    "nbgrader": {
     "cell_type": "markdown",
     "checksum": "6066811d7cddafee39d2c2d199710575",
     "grade": false,
     "grade_id": "cell-f8588579a70d5dc5",
     "locked": true,
     "schema_version": 3,
     "solution": false,
     "task": false
    }
   },
   "source": [
    "Or, equivalently :\n",
    "- From the module math we import only the value of pi\n",
    "```python\n",
    "from math import pi\n",
    "print(pi)\n",
    "```\n",
    "- We import the full math package in an another namespace\n",
    "```python\n",
    "import math as ModuleName\n",
    "print(ModuleName.pi)\n",
    "```\n",
    "\n",
    "- From the module math we import only the value pi and name it differently\n",
    "```python\n",
    "from math import pi as tau\n",
    "print(tau)\n",
    "```\n",
    "\n",
    "- We import the full math package in the current namespace\n",
    "```python\n",
    "from math import *\n",
    "print(pi)\n",
    "```"
   ]
  },
  {
   "cell_type": "markdown",
   "metadata": {
    "deletable": false,
    "editable": false,
    "id": "VoRzpIhWnzVy",
    "nbgrader": {
     "cell_type": "markdown",
     "checksum": "4f447434efd5fafebfc063a6ed71da73",
     "grade": false,
     "grade_id": "cell-9a147b94424f2c8f",
     "locked": true,
     "schema_version": 3,
     "solution": false,
     "task": false
    }
   },
   "source": [
    "**Do not use the last method**  \n",
    "**I will give you penalties if you do!**"
   ]
  },
  {
   "cell_type": "markdown",
   "metadata": {
    "deletable": false,
    "editable": false,
    "id": "SsxBeblmnzV0",
    "nbgrader": {
     "cell_type": "markdown",
     "checksum": "04cc780540c42bf33635d42debb70f7b",
     "grade": false,
     "grade_id": "cell-577af2dedc6aeb6b",
     "locked": true,
     "schema_version": 3,
     "solution": false,
     "task": false
    }
   },
   "source": [
    "Python can give you a lot of help"
   ]
  },
  {
   "cell_type": "code",
   "execution_count": 18,
   "metadata": {
    "id": "sJ_DyglKnzV4"
   },
   "outputs": [
    {
     "name": "stdout",
     "output_type": "stream",
     "text": [
      "Help on built-in module math:\n",
      "\n",
      "NAME\n",
      "    math\n",
      "\n",
      "DESCRIPTION\n",
      "    This module provides access to the mathematical functions\n",
      "    defined by the C standard.\n",
      "\n",
      "FUNCTIONS\n",
      "    acos(x, /)\n",
      "        Return the arc cosine (measured in radians) of x.\n",
      "    \n",
      "    acosh(x, /)\n",
      "        Return the inverse hyperbolic cosine of x.\n",
      "    \n",
      "    asin(x, /)\n",
      "        Return the arc sine (measured in radians) of x.\n",
      "    \n",
      "    asinh(x, /)\n",
      "        Return the inverse hyperbolic sine of x.\n",
      "    \n",
      "    atan(x, /)\n",
      "        Return the arc tangent (measured in radians) of x.\n",
      "    \n",
      "    atan2(y, x, /)\n",
      "        Return the arc tangent (measured in radians) of y/x.\n",
      "        \n",
      "        Unlike atan(y/x), the signs of both x and y are considered.\n",
      "    \n",
      "    atanh(x, /)\n",
      "        Return the inverse hyperbolic tangent of x.\n",
      "    \n",
      "    ceil(x, /)\n",
      "        Return the ceiling of x as an Integral.\n",
      "        \n",
      "        This is the smallest integer >= x.\n",
      "    \n",
      "    comb(n, k, /)\n",
      "        Number of ways to choose k items from n items without repetition and without order.\n",
      "        \n",
      "        Evaluates to n! / (k! * (n - k)!) when k <= n and evaluates\n",
      "        to zero when k > n.\n",
      "        \n",
      "        Also called the binomial coefficient because it is equivalent\n",
      "        to the coefficient of k-th term in polynomial expansion of the\n",
      "        expression (1 + x)**n.\n",
      "        \n",
      "        Raises TypeError if either of the arguments are not integers.\n",
      "        Raises ValueError if either of the arguments are negative.\n",
      "    \n",
      "    copysign(x, y, /)\n",
      "        Return a float with the magnitude (absolute value) of x but the sign of y.\n",
      "        \n",
      "        On platforms that support signed zeros, copysign(1.0, -0.0)\n",
      "        returns -1.0.\n",
      "    \n",
      "    cos(x, /)\n",
      "        Return the cosine of x (measured in radians).\n",
      "    \n",
      "    cosh(x, /)\n",
      "        Return the hyperbolic cosine of x.\n",
      "    \n",
      "    degrees(x, /)\n",
      "        Convert angle x from radians to degrees.\n",
      "    \n",
      "    dist(p, q, /)\n",
      "        Return the Euclidean distance between two points p and q.\n",
      "        \n",
      "        The points should be specified as sequences (or iterables) of\n",
      "        coordinates.  Both inputs must have the same dimension.\n",
      "        \n",
      "        Roughly equivalent to:\n",
      "            sqrt(sum((px - qx) ** 2.0 for px, qx in zip(p, q)))\n",
      "    \n",
      "    erf(x, /)\n",
      "        Error function at x.\n",
      "    \n",
      "    erfc(x, /)\n",
      "        Complementary error function at x.\n",
      "    \n",
      "    exp(x, /)\n",
      "        Return e raised to the power of x.\n",
      "    \n",
      "    expm1(x, /)\n",
      "        Return exp(x)-1.\n",
      "        \n",
      "        This function avoids the loss of precision involved in the direct evaluation of exp(x)-1 for small x.\n",
      "    \n",
      "    fabs(x, /)\n",
      "        Return the absolute value of the float x.\n",
      "    \n",
      "    factorial(x, /)\n",
      "        Find x!.\n",
      "        \n",
      "        Raise a ValueError if x is negative or non-integral.\n",
      "    \n",
      "    floor(x, /)\n",
      "        Return the floor of x as an Integral.\n",
      "        \n",
      "        This is the largest integer <= x.\n",
      "    \n",
      "    fmod(x, y, /)\n",
      "        Return fmod(x, y), according to platform C.\n",
      "        \n",
      "        x % y may differ.\n",
      "    \n",
      "    frexp(x, /)\n",
      "        Return the mantissa and exponent of x, as pair (m, e).\n",
      "        \n",
      "        m is a float and e is an int, such that x = m * 2.**e.\n",
      "        If x is 0, m and e are both 0.  Else 0.5 <= abs(m) < 1.0.\n",
      "    \n",
      "    fsum(seq, /)\n",
      "        Return an accurate floating point sum of values in the iterable seq.\n",
      "        \n",
      "        Assumes IEEE-754 floating point arithmetic.\n",
      "    \n",
      "    gamma(x, /)\n",
      "        Gamma function at x.\n",
      "    \n",
      "    gcd(x, y, /)\n",
      "        greatest common divisor of x and y\n",
      "    \n",
      "    hypot(...)\n",
      "        hypot(*coordinates) -> value\n",
      "        \n",
      "        Multidimensional Euclidean distance from the origin to a point.\n",
      "        \n",
      "        Roughly equivalent to:\n",
      "            sqrt(sum(x**2 for x in coordinates))\n",
      "        \n",
      "        For a two dimensional point (x, y), gives the hypotenuse\n",
      "        using the Pythagorean theorem:  sqrt(x*x + y*y).\n",
      "        \n",
      "        For example, the hypotenuse of a 3/4/5 right triangle is:\n",
      "        \n",
      "            >>> hypot(3.0, 4.0)\n",
      "            5.0\n",
      "    \n",
      "    isclose(a, b, *, rel_tol=1e-09, abs_tol=0.0)\n",
      "        Determine whether two floating point numbers are close in value.\n",
      "        \n",
      "          rel_tol\n",
      "            maximum difference for being considered \"close\", relative to the\n",
      "            magnitude of the input values\n",
      "          abs_tol\n",
      "            maximum difference for being considered \"close\", regardless of the\n",
      "            magnitude of the input values\n",
      "        \n",
      "        Return True if a is close in value to b, and False otherwise.\n",
      "        \n",
      "        For the values to be considered close, the difference between them\n",
      "        must be smaller than at least one of the tolerances.\n",
      "        \n",
      "        -inf, inf and NaN behave similarly to the IEEE 754 Standard.  That\n",
      "        is, NaN is not close to anything, even itself.  inf and -inf are\n",
      "        only close to themselves.\n",
      "    \n",
      "    isfinite(x, /)\n",
      "        Return True if x is neither an infinity nor a NaN, and False otherwise.\n",
      "    \n",
      "    isinf(x, /)\n",
      "        Return True if x is a positive or negative infinity, and False otherwise.\n",
      "    \n",
      "    isnan(x, /)\n",
      "        Return True if x is a NaN (not a number), and False otherwise.\n",
      "    \n",
      "    isqrt(n, /)\n",
      "        Return the integer part of the square root of the input.\n",
      "    \n",
      "    ldexp(x, i, /)\n",
      "        Return x * (2**i).\n",
      "        \n",
      "        This is essentially the inverse of frexp().\n",
      "    \n",
      "    lgamma(x, /)\n",
      "        Natural logarithm of absolute value of Gamma function at x.\n",
      "    \n",
      "    log(...)\n",
      "        log(x, [base=math.e])\n",
      "        Return the logarithm of x to the given base.\n",
      "        \n",
      "        If the base not specified, returns the natural logarithm (base e) of x.\n",
      "    \n",
      "    log10(x, /)\n",
      "        Return the base 10 logarithm of x.\n",
      "    \n",
      "    log1p(x, /)\n",
      "        Return the natural logarithm of 1+x (base e).\n",
      "        \n",
      "        The result is computed in a way which is accurate for x near zero.\n",
      "    \n",
      "    log2(x, /)\n",
      "        Return the base 2 logarithm of x.\n",
      "    \n",
      "    modf(x, /)\n",
      "        Return the fractional and integer parts of x.\n",
      "        \n",
      "        Both results carry the sign of x and are floats.\n",
      "    \n",
      "    perm(n, k=None, /)\n",
      "        Number of ways to choose k items from n items without repetition and with order.\n",
      "        \n",
      "        Evaluates to n! / (n - k)! when k <= n and evaluates\n",
      "        to zero when k > n.\n",
      "        \n",
      "        If k is not specified or is None, then k defaults to n\n",
      "        and the function returns n!.\n",
      "        \n",
      "        Raises TypeError if either of the arguments are not integers.\n",
      "        Raises ValueError if either of the arguments are negative.\n",
      "    \n",
      "    pow(x, y, /)\n",
      "        Return x**y (x to the power of y).\n",
      "    \n",
      "    prod(iterable, /, *, start=1)\n",
      "        Calculate the product of all the elements in the input iterable.\n",
      "        \n",
      "        The default start value for the product is 1.\n",
      "        \n",
      "        When the iterable is empty, return the start value.  This function is\n",
      "        intended specifically for use with numeric values and may reject\n",
      "        non-numeric types.\n",
      "    \n",
      "    radians(x, /)\n",
      "        Convert angle x from degrees to radians.\n",
      "    \n",
      "    remainder(x, y, /)\n",
      "        Difference between x and the closest integer multiple of y.\n",
      "        \n",
      "        Return x - n*y where n*y is the closest integer multiple of y.\n",
      "        In the case where x is exactly halfway between two multiples of\n",
      "        y, the nearest even value of n is used. The result is always exact.\n",
      "    \n",
      "    sin(x, /)\n",
      "        Return the sine of x (measured in radians).\n",
      "    \n",
      "    sinh(x, /)\n",
      "        Return the hyperbolic sine of x.\n",
      "    \n",
      "    sqrt(x, /)\n",
      "        Return the square root of x.\n",
      "    \n",
      "    tan(x, /)\n",
      "        Return the tangent of x (measured in radians).\n",
      "    \n",
      "    tanh(x, /)\n",
      "        Return the hyperbolic tangent of x.\n",
      "    \n",
      "    trunc(x, /)\n",
      "        Truncates the Real x to the nearest Integral toward 0.\n",
      "        \n",
      "        Uses the __trunc__ magic method.\n",
      "\n",
      "DATA\n",
      "    e = 2.718281828459045\n",
      "    inf = inf\n",
      "    nan = nan\n",
      "    pi = 3.141592653589793\n",
      "    tau = 6.283185307179586\n",
      "\n",
      "FILE\n",
      "    (built-in)\n",
      "\n",
      "\n"
     ]
    }
   ],
   "source": [
    "help(math)"
   ]
  },
  {
   "cell_type": "markdown",
   "metadata": {
    "deletable": false,
    "editable": false,
    "id": "THOBRDeonzV-",
    "nbgrader": {
     "cell_type": "markdown",
     "checksum": "87739d2f0b8e2ca6919f395da9bc8d35",
     "grade": false,
     "grade_id": "cell-792dc00bcc3d4de4",
     "locked": true,
     "schema_version": 3,
     "solution": false,
     "task": false
    }
   },
   "source": [
    "This is accessible also by pressing `Shift + Tab` \n",
    "Or by executing `math?`\n",
    "\n",
    "Find and test some other mathematical functions  \n",
    "You can press `Tab` to use completion.\n"
   ]
  },
  {
   "cell_type": "code",
   "execution_count": 19,
   "metadata": {
    "id": "ePChGWjvnzWA"
   },
   "outputs": [
    {
     "data": {
      "text/plain": [
       "0.3010299956639812"
      ]
     },
     "execution_count": 19,
     "metadata": {},
     "output_type": "execute_result"
    }
   ],
   "source": [
    "math.log10(2)"
   ]
  },
  {
   "cell_type": "markdown",
   "metadata": {
    "deletable": false,
    "editable": false,
    "id": "Ndh9fDvJnzWH",
    "nbgrader": {
     "cell_type": "markdown",
     "checksum": "ef484de405c147f66b46ec443130b981",
     "grade": false,
     "grade_id": "cell-8f609b2d55156e28",
     "locked": true,
     "schema_version": 3,
     "solution": false,
     "task": false
    }
   },
   "source": [
    "# **Excercise #1:**\n",
    "\n",
    "What is the value of $\\cos\\left(\\pi + \\arccos(\\sqrt{2}-1)\\right)$ ?"
   ]
  },
  {
   "cell_type": "code",
   "execution_count": 20,
   "metadata": {
    "deletable": false,
    "id": "6S90T-CgnzWJ",
    "nbgrader": {
     "cell_type": "code",
     "checksum": "dca14eb804b2cf5c197843922d4b6894",
     "grade": false,
     "grade_id": "cell-ebe83ebc48d931a2",
     "locked": false,
     "schema_version": 3,
     "solution": true,
     "task": false
    }
   },
   "outputs": [
    {
     "data": {
      "text/plain": [
       "-0.41421356237309487"
      ]
     },
     "execution_count": 20,
     "metadata": {},
     "output_type": "execute_result"
    }
   ],
   "source": [
    "pi=3.14\n",
    "math.cos(math.pi+math.acos(math.sqrt(2)-1))"
   ]
  },
  {
   "cell_type": "markdown",
   "metadata": {
    "deletable": false,
    "editable": false,
    "id": "WzeTXW4mnzWM",
    "nbgrader": {
     "cell_type": "markdown",
     "checksum": "1d7a2e85928c61198891f3aa5abe5b7b",
     "grade": false,
     "grade_id": "cell-92d0a96a067f260c",
     "locked": true,
     "schema_version": 3,
     "solution": false,
     "task": false
    }
   },
   "source": [
    "# Exercise #2: Root of second order polynomial \n",
    "## Part I\n",
    "\n",
    "We are looking to the solutions of the equation $2x^2 + 5x - 2 = 0$\n",
    "\n",
    "First create three variables `a`, `b` and `c` such that:\n",
    "$$ a = 2 $$\n",
    "$$ b = 5 $$\n",
    "$$ c = -2 $$"
   ]
  },
  {
   "cell_type": "code",
   "execution_count": 36,
   "metadata": {
    "deletable": false,
    "id": "U_XYcmTznzWO",
    "nbgrader": {
     "cell_type": "code",
     "checksum": "d6e6bddba4b19fbb6e6f22990dbdb7cc",
     "grade": false,
     "grade_id": "cell-c1c3841e99ca1ab6",
     "locked": false,
     "schema_version": 3,
     "solution": true,
     "task": false
    }
   },
   "outputs": [],
   "source": [
    "a=2\n",
    "b=5\n",
    "c=-2"
   ]
  },
  {
   "cell_type": "markdown",
   "metadata": {
    "deletable": false,
    "editable": false,
    "id": "kHcCowjlnzWX",
    "nbgrader": {
     "cell_type": "markdown",
     "checksum": "2ffb291d2f484378dfc8dc91a5a36007",
     "grade": false,
     "grade_id": "cell-136c9472ae7ea6ea",
     "locked": true,
     "schema_version": 3,
     "solution": false,
     "task": false
    }
   },
   "source": [
    "Compute the quantity $\\Delta = b^2 - 4ac$. \n",
    "Symbol $\\Delta$ can not be used as variable. So use `Delta` for the variable name."
   ]
  },
  {
   "cell_type": "code",
   "execution_count": 37,
   "metadata": {
    "deletable": false,
    "id": "wBs3TJGInzWb",
    "nbgrader": {
     "cell_type": "code",
     "checksum": "bba1d801ed39dd691cc71ed671452d85",
     "grade": false,
     "grade_id": "cell-8ab0e5e178453db9",
     "locked": false,
     "schema_version": 3,
     "solution": true,
     "task": false
    }
   },
   "outputs": [
    {
     "name": "stdout",
     "output_type": "stream",
     "text": [
      "41\n"
     ]
    }
   ],
   "source": [
    "delta=b**2-4*a*c\n",
    "print(delta)"
   ]
  },
  {
   "cell_type": "markdown",
   "metadata": {
    "deletable": false,
    "editable": false,
    "id": "kAY9RU2enzWg",
    "nbgrader": {
     "cell_type": "markdown",
     "checksum": "42f6085334c25754afc16157175657de",
     "grade": false,
     "grade_id": "cell-da70855b49553aaa",
     "locked": true,
     "schema_version": 3,
     "solution": false,
     "task": false
    }
   },
   "source": [
    "Compute the two solutions $x_1$ and $x_2$\n",
    "$$ x_1 = \\frac{-b + \\sqrt{\\Delta}}{2a} $$\n",
    "$$ x_2 = \\frac{-b - \\sqrt{\\Delta}}{2a} $$\n",
    "Again, use `x1` ax `x2` as variable names."
   ]
  },
  {
   "cell_type": "code",
   "execution_count": 38,
   "metadata": {
    "deletable": false,
    "id": "QfpEN3YxnzWi",
    "nbgrader": {
     "cell_type": "code",
     "checksum": "8ef11d2e4fd2ef5f83e7000f19c4630f",
     "grade": false,
     "grade_id": "cell-add919ce40c84f3f",
     "locked": false,
     "schema_version": 3,
     "solution": true,
     "task": false
    }
   },
   "outputs": [
    {
     "name": "stdout",
     "output_type": "stream",
     "text": [
      "0.35078105935821213\n",
      "-2.850781059358212\n"
     ]
    }
   ],
   "source": [
    "x1=(-b+math.sqrt(delta))/(2*a)\n",
    "print(x1)\n",
    "x2=(-b-math.sqrt(delta))/(2*a)\n",
    "print(x2)"
   ]
  },
  {
   "cell_type": "markdown",
   "metadata": {
    "deletable": false,
    "editable": false,
    "id": "DEA9gW3hnzWk",
    "nbgrader": {
     "cell_type": "markdown",
     "checksum": "7b192dd1a4de85c454673070faa2e059",
     "grade": false,
     "grade_id": "cell-b05fde8321bfe154",
     "locked": true,
     "schema_version": 3,
     "solution": false,
     "task": false
    }
   },
   "source": [
    "Check that they are solution by computing:\n",
    "$$2x_1^2 + 5x_1 - 2$$\n",
    "$$2x_2^2 + 5x_2 - 2$$"
   ]
  },
  {
   "cell_type": "code",
   "execution_count": 39,
   "metadata": {},
   "outputs": [
    {
     "name": "stdout",
     "output_type": "stream",
     "text": [
      "-2.220446049250313e-16\n",
      "0.0\n"
     ]
    }
   ],
   "source": [
    "print(a*x1**2+b*x1+c)\n",
    "print(a*x2**2+b*x2+c)"
   ]
  },
  {
   "cell_type": "code",
   "execution_count": 40,
   "metadata": {
    "deletable": false,
    "editable": false,
    "nbgrader": {
     "cell_type": "code",
     "checksum": "3217cd56bd99aa52b0cc2eb4acff3609",
     "grade": true,
     "grade_id": "cell-fbe91f87a24ea80a",
     "locked": true,
     "points": 2,
     "schema_version": 3,
     "solution": false,
     "task": false
    }
   },
   "outputs": [],
   "source": [
    "\"\"\"Check that your solution is good\"\"\"\n",
    "assert a*x1**2+b*x1+c<1e-10\n",
    "assert a*x1**2+b*x1+c<1e-10"
   ]
  },
  {
   "cell_type": "markdown",
   "metadata": {
    "deletable": false,
    "editable": false,
    "id": "17Ll476YnzW1",
    "nbgrader": {
     "cell_type": "markdown",
     "checksum": "3521347d8c86f712a91e5a02f66f9553",
     "grade": false,
     "grade_id": "cell-649a67c241498e42",
     "locked": true,
     "schema_version": 3,
     "solution": false,
     "task": false
    }
   },
   "source": [
    "# Exercise #2: Root of second order polynomial \n",
    "## Part II\n",
    "Find the solutions of the equation $x^2 + 3x - 3.5 = 0$"
   ]
  },
  {
   "cell_type": "code",
   "execution_count": 41,
   "metadata": {
    "deletable": false,
    "nbgrader": {
     "cell_type": "code",
     "checksum": "35532367d29eeffda97ca8ef5a5ebe8d",
     "grade": false,
     "grade_id": "cell-d9eef096195a213e",
     "locked": false,
     "schema_version": 3,
     "solution": true,
     "task": false
    }
   },
   "outputs": [],
   "source": [
    "a=1\n",
    "b=3\n",
    "c=-3.5"
   ]
  },
  {
   "cell_type": "code",
   "execution_count": 42,
   "metadata": {},
   "outputs": [
    {
     "name": "stdout",
     "output_type": "stream",
     "text": [
      "23.0\n",
      "0.8979157616563596\n",
      "-3.8979157616563596\n"
     ]
    }
   ],
   "source": [
    "delta=(b**2-4**a*c)\n",
    "print(delta)\n",
    "\n",
    "x1=(-b+math.sqrt(delta))/(2*a)\n",
    "print(x1)\n",
    "x2=(-b-math.sqrt(delta))/(2*a)\n",
    "print(x2)"
   ]
  },
  {
   "cell_type": "markdown",
   "metadata": {
    "deletable": false,
    "editable": false,
    "id": "UN5O3Fp88edD",
    "nbgrader": {
     "cell_type": "markdown",
     "checksum": "6eb0da53364d0ec79d6a39996042e2c8",
     "grade": false,
     "grade_id": "cell-2bd7e2cd088795ad",
     "locked": true,
     "schema_version": 3,
     "solution": false,
     "task": false
    }
   },
   "source": [
    "# Exercise #2: Root of second order polynomial \n",
    "## Part III  [Advance Students]\n",
    "\n",
    "As we saw before, they are modules with functions and informations that are already done and we can use them to our advantage. For this case, there exist `scipy`. \n",
    "\n",
    "[scipy](https://scipy.org/scipylib/)\n",
    "\n",
    "Find the solutions of the previous equation: $x^2 + 3x - 3.5 = 0$ using this library.\n",
    "\n"
   ]
  },
  {
   "cell_type": "code",
   "execution_count": 28,
   "metadata": {
    "deletable": false,
    "nbgrader": {
     "cell_type": "code",
     "checksum": "bdecc473443761b06de2c9586273cb72",
     "grade": false,
     "grade_id": "cell-6e4ccf191d04e03b",
     "locked": false,
     "schema_version": 3,
     "solution": true,
     "task": false
    }
   },
   "outputs": [
    {
     "name": "stdout",
     "output_type": "stream",
     "text": [
      "-8.881784197001252e-16\n",
      "0.0\n"
     ]
    }
   ],
   "source": [
    "a = 1\n",
    "b = 3\n",
    "c = -3.5\n",
    "x1 = 0.8979157616563596 \n",
    "x2 = -3.8979157616563596\n",
    "\n",
    "\n",
    "print(a*x1**2+b*x1+c)\n",
    "print(a*x2**2+b*x2+c)\n"
   ]
  },
  {
   "cell_type": "code",
   "execution_count": 29,
   "metadata": {
    "deletable": false,
    "editable": false,
    "nbgrader": {
     "cell_type": "code",
     "checksum": "80e2af15a9d65cec55792178f824910a",
     "grade": true,
     "grade_id": "cell-ecaad43a0f7cdfc5",
     "locked": true,
     "points": 0,
     "schema_version": 3,
     "solution": false,
     "task": false
    }
   },
   "outputs": [],
   "source": [
    "assert abs(a*x1**2+b*x1+c)<1e-10\n",
    "assert abs(a*x1**2+b*x1+c)<1e-10"
   ]
  },
  {
   "cell_type": "markdown",
   "metadata": {
    "deletable": false,
    "editable": false,
    "id": "EbhvenzonzW_",
    "nbgrader": {
     "cell_type": "markdown",
     "checksum": "4243c6a6fc8d63182ff8bf98014c974e",
     "grade": false,
     "grade_id": "cell-25a540c461ac96f0",
     "locked": true,
     "schema_version": 3,
     "solution": false,
     "task": false
    }
   },
   "source": [
    "## Functions and loops\n",
    "\n",
    "You may have notice that it is boring to write several times the same equation.   \n",
    "Computers are not smart but they are very enthusiastic to repeat something they have done already.\n",
    "\n",
    "Suppose that I want to write 100 times ‘Hello World !’.  \n",
    "I can write it one time and ask the computer to do it 100 times this way: "
   ]
  },
  {
   "cell_type": "code",
   "execution_count": 30,
   "metadata": {
    "id": "JFsY7kvDnzXD"
   },
   "outputs": [
    {
     "name": "stdout",
     "output_type": "stream",
     "text": [
      "Hello World !\n",
      "i= 0\n",
      "Hello World !\n",
      "i= 1\n",
      "Hello World !\n",
      "i= 2\n",
      "Hello World !\n",
      "i= 3\n",
      "Hello World !\n",
      "i= 4\n",
      "Hello World !\n",
      "i= 5\n",
      "Hello World !\n",
      "i= 6\n",
      "Hello World !\n",
      "i= 7\n",
      "Hello World !\n",
      "i= 8\n",
      "Hello World !\n",
      "i= 9\n",
      "Hello World !\n",
      "i= 10\n",
      "Hello World !\n",
      "i= 11\n",
      "Hello World !\n",
      "i= 12\n",
      "Hello World !\n",
      "i= 13\n",
      "Hello World !\n",
      "i= 14\n",
      "Hello World !\n",
      "i= 15\n",
      "Hello World !\n",
      "i= 16\n",
      "Hello World !\n",
      "i= 17\n",
      "Hello World !\n",
      "i= 18\n",
      "Hello World !\n",
      "i= 19\n",
      "Hello World !\n",
      "i= 20\n",
      "Hello World !\n",
      "i= 21\n",
      "Hello World !\n",
      "i= 22\n",
      "Hello World !\n",
      "i= 23\n",
      "Hello World !\n",
      "i= 24\n",
      "Hello World !\n",
      "i= 25\n",
      "Hello World !\n",
      "i= 26\n",
      "Hello World !\n",
      "i= 27\n",
      "Hello World !\n",
      "i= 28\n",
      "Hello World !\n",
      "i= 29\n",
      "Hello World !\n",
      "i= 30\n",
      "Hello World !\n",
      "i= 31\n",
      "Hello World !\n",
      "i= 32\n",
      "Hello World !\n",
      "i= 33\n",
      "Hello World !\n",
      "i= 34\n",
      "Hello World !\n",
      "i= 35\n",
      "Hello World !\n",
      "i= 36\n",
      "Hello World !\n",
      "i= 37\n",
      "Hello World !\n",
      "i= 38\n",
      "Hello World !\n",
      "i= 39\n",
      "Hello World !\n",
      "i= 40\n",
      "Hello World !\n",
      "i= 41\n",
      "Hello World !\n",
      "i= 42\n",
      "Hello World !\n",
      "i= 43\n",
      "Hello World !\n",
      "i= 44\n",
      "Hello World !\n",
      "i= 45\n",
      "Hello World !\n",
      "i= 46\n",
      "Hello World !\n",
      "i= 47\n",
      "Hello World !\n",
      "i= 48\n",
      "Hello World !\n",
      "i= 49\n",
      "Hello World !\n",
      "i= 50\n",
      "Hello World !\n",
      "i= 51\n",
      "Hello World !\n",
      "i= 52\n",
      "Hello World !\n",
      "i= 53\n",
      "Hello World !\n",
      "i= 54\n",
      "Hello World !\n",
      "i= 55\n",
      "Hello World !\n",
      "i= 56\n",
      "Hello World !\n",
      "i= 57\n",
      "Hello World !\n",
      "i= 58\n",
      "Hello World !\n",
      "i= 59\n",
      "Hello World !\n",
      "i= 60\n",
      "Hello World !\n",
      "i= 61\n",
      "Hello World !\n",
      "i= 62\n",
      "Hello World !\n",
      "i= 63\n",
      "Hello World !\n",
      "i= 64\n",
      "Hello World !\n",
      "i= 65\n",
      "Hello World !\n",
      "i= 66\n",
      "Hello World !\n",
      "i= 67\n",
      "Hello World !\n",
      "i= 68\n",
      "Hello World !\n",
      "i= 69\n",
      "Hello World !\n",
      "i= 70\n",
      "Hello World !\n",
      "i= 71\n",
      "Hello World !\n",
      "i= 72\n",
      "Hello World !\n",
      "i= 73\n",
      "Hello World !\n",
      "i= 74\n",
      "Hello World !\n",
      "i= 75\n",
      "Hello World !\n",
      "i= 76\n",
      "Hello World !\n",
      "i= 77\n",
      "Hello World !\n",
      "i= 78\n",
      "Hello World !\n",
      "i= 79\n",
      "Hello World !\n",
      "i= 80\n",
      "Hello World !\n",
      "i= 81\n",
      "Hello World !\n",
      "i= 82\n",
      "Hello World !\n",
      "i= 83\n",
      "Hello World !\n",
      "i= 84\n",
      "Hello World !\n",
      "i= 85\n",
      "Hello World !\n",
      "i= 86\n",
      "Hello World !\n",
      "i= 87\n",
      "Hello World !\n",
      "i= 88\n",
      "Hello World !\n",
      "i= 89\n",
      "Hello World !\n",
      "i= 90\n",
      "Hello World !\n",
      "i= 91\n",
      "Hello World !\n",
      "i= 92\n",
      "Hello World !\n",
      "i= 93\n",
      "Hello World !\n",
      "i= 94\n",
      "Hello World !\n",
      "i= 95\n",
      "Hello World !\n",
      "i= 96\n",
      "Hello World !\n",
      "i= 97\n",
      "Hello World !\n",
      "i= 98\n",
      "Hello World !\n",
      "i= 99\n"
     ]
    }
   ],
   "source": [
    "for i in range(100):\n",
    "    print('Hello World !')\n",
    "    print('i=', i)"
   ]
  },
  {
   "cell_type": "markdown",
   "metadata": {
    "deletable": false,
    "editable": false,
    "id": "mJBUhvOFnzXF",
    "nbgrader": {
     "cell_type": "markdown",
     "checksum": "65dc5f233ed22355a3c8d0b68660480c",
     "grade": false,
     "grade_id": "cell-142f7f1e98ff4bf9",
     "locked": true,
     "schema_version": 3,
     "solution": false,
     "task": false
    }
   },
   "source": [
    "Or this way: "
   ]
  },
  {
   "cell_type": "code",
   "execution_count": 31,
   "metadata": {
    "id": "ZrEUwO-xnzXG"
   },
   "outputs": [
    {
     "name": "stdout",
     "output_type": "stream",
     "text": [
      "Hello World !\n",
      "i= 0\n",
      "Hello World !\n",
      "i= 1\n",
      "Hello World !\n",
      "i= 2\n",
      "Hello World !\n",
      "i= 3\n",
      "Hello World !\n",
      "i= 4\n",
      "Hello World !\n",
      "i= 5\n",
      "Hello World !\n",
      "i= 6\n",
      "Hello World !\n",
      "i= 7\n",
      "Hello World !\n",
      "i= 8\n",
      "Hello World !\n",
      "i= 9\n",
      "Hello World !\n",
      "i= 10\n",
      "Hello World !\n",
      "i= 11\n",
      "Hello World !\n",
      "i= 12\n",
      "Hello World !\n",
      "i= 13\n",
      "Hello World !\n",
      "i= 14\n",
      "Hello World !\n",
      "i= 15\n",
      "Hello World !\n",
      "i= 16\n",
      "Hello World !\n",
      "i= 17\n",
      "Hello World !\n",
      "i= 18\n",
      "Hello World !\n",
      "i= 19\n",
      "Hello World !\n",
      "i= 20\n",
      "Hello World !\n",
      "i= 21\n",
      "Hello World !\n",
      "i= 22\n",
      "Hello World !\n",
      "i= 23\n",
      "Hello World !\n",
      "i= 24\n",
      "Hello World !\n",
      "i= 25\n",
      "Hello World !\n",
      "i= 26\n",
      "Hello World !\n",
      "i= 27\n",
      "Hello World !\n",
      "i= 28\n",
      "Hello World !\n",
      "i= 29\n",
      "Hello World !\n",
      "i= 30\n",
      "Hello World !\n",
      "i= 31\n",
      "Hello World !\n",
      "i= 32\n",
      "Hello World !\n",
      "i= 33\n",
      "Hello World !\n",
      "i= 34\n",
      "Hello World !\n",
      "i= 35\n",
      "Hello World !\n",
      "i= 36\n",
      "Hello World !\n",
      "i= 37\n",
      "Hello World !\n",
      "i= 38\n",
      "Hello World !\n",
      "i= 39\n",
      "Hello World !\n",
      "i= 40\n",
      "Hello World !\n",
      "i= 41\n",
      "Hello World !\n",
      "i= 42\n",
      "Hello World !\n",
      "i= 43\n",
      "Hello World !\n",
      "i= 44\n",
      "Hello World !\n",
      "i= 45\n",
      "Hello World !\n",
      "i= 46\n",
      "Hello World !\n",
      "i= 47\n",
      "Hello World !\n",
      "i= 48\n",
      "Hello World !\n",
      "i= 49\n",
      "Hello World !\n",
      "i= 50\n",
      "Hello World !\n",
      "i= 51\n",
      "Hello World !\n",
      "i= 52\n",
      "Hello World !\n",
      "i= 53\n",
      "Hello World !\n",
      "i= 54\n",
      "Hello World !\n",
      "i= 55\n",
      "Hello World !\n",
      "i= 56\n",
      "Hello World !\n",
      "i= 57\n",
      "Hello World !\n",
      "i= 58\n",
      "Hello World !\n",
      "i= 59\n",
      "Hello World !\n",
      "i= 60\n",
      "Hello World !\n",
      "i= 61\n",
      "Hello World !\n",
      "i= 62\n",
      "Hello World !\n",
      "i= 63\n",
      "Hello World !\n",
      "i= 64\n",
      "Hello World !\n",
      "i= 65\n",
      "Hello World !\n",
      "i= 66\n",
      "Hello World !\n",
      "i= 67\n",
      "Hello World !\n",
      "i= 68\n",
      "Hello World !\n",
      "i= 69\n",
      "Hello World !\n",
      "i= 70\n",
      "Hello World !\n",
      "i= 71\n",
      "Hello World !\n",
      "i= 72\n",
      "Hello World !\n",
      "i= 73\n",
      "Hello World !\n",
      "i= 74\n",
      "Hello World !\n",
      "i= 75\n",
      "Hello World !\n",
      "i= 76\n",
      "Hello World !\n",
      "i= 77\n",
      "Hello World !\n",
      "i= 78\n",
      "Hello World !\n",
      "i= 79\n",
      "Hello World !\n",
      "i= 80\n",
      "Hello World !\n",
      "i= 81\n",
      "Hello World !\n",
      "i= 82\n",
      "Hello World !\n",
      "i= 83\n",
      "Hello World !\n",
      "i= 84\n",
      "Hello World !\n",
      "i= 85\n",
      "Hello World !\n",
      "i= 86\n",
      "Hello World !\n",
      "i= 87\n",
      "Hello World !\n",
      "i= 88\n",
      "Hello World !\n",
      "i= 89\n",
      "Hello World !\n",
      "i= 90\n",
      "Hello World !\n",
      "i= 91\n",
      "Hello World !\n",
      "i= 92\n",
      "Hello World !\n",
      "i= 93\n",
      "Hello World !\n",
      "i= 94\n",
      "Hello World !\n",
      "i= 95\n",
      "Hello World !\n",
      "i= 96\n",
      "Hello World !\n",
      "i= 97\n",
      "Hello World !\n",
      "i= 98\n",
      "Hello World !\n",
      "i= 99\n"
     ]
    }
   ],
   "source": [
    "def hundredHello():\n",
    "    for i in range(100):\n",
    "        print('Hello World !')\n",
    "        print('i=', i)\n",
    "\n",
    "hundredHello()"
   ]
  },
  {
   "cell_type": "markdown",
   "metadata": {
    "deletable": false,
    "editable": false,
    "id": "BL9qtglbnzXQ",
    "nbgrader": {
     "cell_type": "markdown",
     "checksum": "61807a47085f37458ae49b88db3bde30",
     "grade": false,
     "grade_id": "cell-06a2e6522b410b4d",
     "locked": true,
     "schema_version": 3,
     "solution": false,
     "task": false
    }
   },
   "source": [
    "You may want to do it n times:"
   ]
  },
  {
   "cell_type": "code",
   "execution_count": 45,
   "metadata": {
    "id": "Kc20EiNOnzXW",
    "scrolled": true
   },
   "outputs": [
    {
     "name": "stdout",
     "output_type": "stream",
     "text": [
      "Hello World !\n",
      "i= 0\n",
      "Hello World !\n",
      "i= 1\n",
      "Hello World !\n",
      "i= 2\n",
      "Hello World !\n",
      "i= 3\n",
      "Hello World !\n",
      "i= 4\n",
      "Hello World !\n",
      "i= 5\n",
      "Hello World !\n",
      "i= 6\n",
      "Hello World !\n",
      "i= 7\n",
      "Hello World !\n",
      "i= 8\n",
      "Hello World !\n",
      "i= 9\n",
      "Hello World !\n",
      "i= 10\n",
      "Hello World !\n",
      "i= 11\n",
      "Hello World !\n",
      "i= 12\n",
      "Hello World !\n",
      "i= 13\n",
      "Hello World !\n",
      "i= 14\n",
      "Hello World !\n",
      "i= 15\n",
      "Hello World !\n",
      "i= 16\n",
      "Hello World !\n",
      "i= 17\n",
      "Hello World !\n",
      "i= 18\n",
      "Hello World !\n",
      "i= 19\n"
     ]
    }
   ],
   "source": [
    "def nHello(nPrint):\n",
    "    for i in range(nPrint):\n",
    "        print('Hello World !')\n",
    "        print('i=', i)\n",
    "        \n",
    "nHello(20)\n",
    " "
   ]
  },
  {
   "cell_type": "markdown",
   "metadata": {
    "deletable": false,
    "editable": false,
    "id": "iU-2RAy0qzKs",
    "nbgrader": {
     "cell_type": "markdown",
     "checksum": "0e0b0318e96bcf739acdf3e9245ca21d",
     "grade": false,
     "grade_id": "cell-4b5089b78a1c5ed4",
     "locked": true,
     "schema_version": 3,
     "solution": false,
     "task": false
    }
   },
   "source": [
    "Or to call one function from another:"
   ]
  },
  {
   "cell_type": "code",
   "execution_count": 46,
   "metadata": {
    "id": "elYVEEM7qzXy",
    "scrolled": true
   },
   "outputs": [
    {
     "name": "stdout",
     "output_type": "stream",
     "text": [
      "Hello World !\n",
      "i= 0\n",
      "Hello World !\n",
      "i= 1\n",
      "Hello World !\n",
      "i= 2\n",
      "Hello World !\n",
      "i= 3\n",
      "Hello World !\n",
      "i= 4\n",
      "Hello World !\n",
      "i= 5\n",
      "Hello World !\n",
      "i= 6\n",
      "Hello World !\n",
      "i= 7\n",
      "Hello World !\n",
      "i= 8\n",
      "Hello World !\n",
      "i= 9\n",
      "Hello World !\n",
      "i= 10\n",
      "Hello World !\n",
      "i= 11\n",
      "Hello World !\n",
      "i= 12\n",
      "Hello World !\n",
      "i= 13\n",
      "Hello World !\n",
      "i= 14\n",
      "Hello World !\n",
      "i= 15\n",
      "Hello World !\n",
      "i= 16\n",
      "Hello World !\n",
      "i= 17\n",
      "Hello World !\n",
      "i= 18\n",
      "Hello World !\n",
      "i= 19\n"
     ]
    }
   ],
   "source": [
    "def one_hello():\n",
    "    print('Hello World !')\n",
    "    \n",
    "def nCallHello(nPrint):\n",
    "    for i in range(nPrint):\n",
    "        one_hello()\n",
    "        print('i=', i)\n",
    "        \n",
    "nCallHello(20)"
   ]
  },
  {
   "cell_type": "markdown",
   "metadata": {
    "deletable": false,
    "editable": false,
    "id": "TUzFMSgQrN3S",
    "nbgrader": {
     "cell_type": "markdown",
     "checksum": "372079f528085915afde6da0808d1f07",
     "grade": false,
     "grade_id": "cell-5b1fc10531ee6792",
     "locked": true,
     "schema_version": 3,
     "solution": false,
     "task": false
    }
   },
   "source": [
    "Or, finally you may want to say something else:"
   ]
  },
  {
   "cell_type": "code",
   "execution_count": 34,
   "metadata": {
    "id": "mc5N9COFrOFF"
   },
   "outputs": [
    {
     "name": "stdout",
     "output_type": "stream",
     "text": [
      "Hey!\n",
      "Hey!\n",
      "Hey!\n",
      "Hey!\n",
      "Hey!\n",
      "Hey!\n",
      "How are you?\n",
      "How are you?\n",
      "There is echo here!\n",
      "There is echo here!\n",
      "There is echo here!\n",
      "There is echo here!\n",
      "There is echo here!\n"
     ]
    }
   ],
   "source": [
    "def repeat(what, how_many):\n",
    "    for i in range(how_many):\n",
    "        print(what)\n",
    "\n",
    "# the order of the arguments matter\n",
    "repeat(\"Hey!\", 6)\n",
    "\n",
    "# unless you name them\n",
    "repeat(what=\"How are you?\", how_many=2)\n",
    "repeat(how_many=5, what=\"There is echo here!\")\n",
    "\n"
   ]
  },
  {
   "cell_type": "markdown",
   "metadata": {
    "deletable": false,
    "editable": false,
    "id": "pBA74c2LnzXg",
    "nbgrader": {
     "cell_type": "markdown",
     "checksum": "027cadf7490d6a962107102ed072d563",
     "grade": false,
     "grade_id": "cell-451efe6ab5b632a5",
     "locked": true,
     "schema_version": 3,
     "solution": false,
     "task": false
    }
   },
   "source": [
    "Notice the space at the start of each line ?\n",
    "\n",
    "This is very important, this is part of the syntax. Forget it and you will pay.\n",
    "\n",
    "They define a block. This is why there is no need for an **`end`** keyword\n",
    "\n",
    "You can use any number of space you want, but it must be constant through the block. Usually we use 4 space. Pressing `Tab` in jupyter will add those 4 spaces, and pressing `Shift-Tab` will remove 4 of them.\n",
    "\n",
    "There are other types of blocks than functions and loops.  \n",
    "Another important one, is the test block"
   ]
  },
  {
   "cell_type": "code",
   "execution_count": 35,
   "metadata": {
    "id": "Aqxr6j7EuGWj"
   },
   "outputs": [
    {
     "name": "stdout",
     "output_type": "stream",
     "text": [
      "6\n"
     ]
    }
   ],
   "source": [
    "def max(a, b):\n",
    "    if a > b:\n",
    "        return a\n",
    "    else:\n",
    "        return b\n",
    "\n",
    "c = max(5, 6)\n",
    "print(c)"
   ]
  },
  {
   "cell_type": "markdown",
   "metadata": {
    "deletable": false,
    "editable": false,
    "id": "GaNCAlxfufUH",
    "nbgrader": {
     "cell_type": "markdown",
     "checksum": "5d5ab0adb52d45da1f0516dde5c61b70",
     "grade": false,
     "grade_id": "cell-c79be9ae796eaa3e",
     "locked": true,
     "schema_version": 3,
     "solution": false,
     "task": false
    }
   },
   "source": [
    "Notice the use of the return statement, it is very usefull. It can be used to pass values from a function to another"
   ]
  },
  {
   "cell_type": "code",
   "execution_count": 48,
   "metadata": {
    "id": "7ZPPe-X8gs3c"
   },
   "outputs": [
    {
     "name": "stdout",
     "output_type": "stream",
     "text": [
      "9\n"
     ]
    }
   ],
   "source": [
    "def printmax(c, d):\n",
    "    e = max(c, d)\n",
    "    print(e)\n",
    "    \n",
    "printmax(8, 9)"
   ]
  },
  {
   "cell_type": "markdown",
   "metadata": {
    "deletable": false,
    "editable": false,
    "id": "qAmKdQljhAhL",
    "nbgrader": {
     "cell_type": "markdown",
     "checksum": "421f9e75ee560b858ef3274d5d7fbafa",
     "grade": false,
     "grade_id": "cell-6e5b7877e4234e95",
     "locked": true,
     "schema_version": 3,
     "solution": false,
     "task": false
    }
   },
   "source": [
    "Here the values $8$ and $9$ are given as parameter to the function printmax.  \n",
    "In this function they are named respectively `c` and `d`.  \n",
    "They are then given as parameter to the function max where they are named `a` and `b`.  \n",
    "The max function compare them and return the maximum of the two values.  \n",
    "The returned value is named `e` in the printmax function and is then printed."
   ]
  },
  {
   "cell_type": "markdown",
   "metadata": {
    "deletable": false,
    "editable": false,
    "id": "-0rIN6v8CnQP",
    "nbgrader": {
     "cell_type": "markdown",
     "checksum": "475303579f8517375add02dc7a050d21",
     "grade": false,
     "grade_id": "cell-c1b5dd430e2825a1",
     "locked": true,
     "schema_version": 3,
     "solution": false,
     "task": false
    }
   },
   "source": [
    "Equal as `for`, there exist `while`. This is also used to create a loop but in difference with `for`, `while` will run as long as the condition is `True`. "
   ]
  },
  {
   "cell_type": "code",
   "execution_count": 37,
   "metadata": {
    "colab": {
     "base_uri": "https://localhost:8080/"
    },
    "id": "Dd9RGLleDPXP",
    "outputId": "73725774-0054-46a8-ff6f-20824708df26"
   },
   "outputs": [
    {
     "name": "stdout",
     "output_type": "stream",
     "text": [
      "1\n",
      "2\n",
      "3\n",
      "4\n"
     ]
    }
   ],
   "source": [
    "a = 1\n",
    "b = 5\n",
    "while (a < b) :\n",
    "  print(a)\n",
    "  a = a + 1"
   ]
  },
  {
   "cell_type": "markdown",
   "metadata": {
    "deletable": false,
    "editable": false,
    "id": "GY6o3JQLOhkQ",
    "nbgrader": {
     "cell_type": "markdown",
     "checksum": "79265da235bc3f53a7405af922f80b5a",
     "grade": false,
     "grade_id": "cell-661b8df3232de766",
     "locked": true,
     "schema_version": 3,
     "solution": false,
     "task": false
    }
   },
   "source": [
    "See how the loop will print the value in `a` as long as is less than `b'. \n",
    "\n",
    "# Excercise #3: Pyramid\n",
    "## Part I\n",
    "\n",
    "Now, let's try to do a pyramid of numbers using the `for` or `while` loops as this one:\n",
    "```python\n",
    "DoPyramid(4):\n",
    "1\n",
    "22\n",
    "333\n",
    "4444\n",
    "```"
   ]
  },
  {
   "cell_type": "code",
   "execution_count": 49,
   "metadata": {
    "deletable": false,
    "id": "p7X6zNYdaBzx",
    "nbgrader": {
     "cell_type": "code",
     "checksum": "8578f8dcd07033e0dd0959ae6ff2bb04",
     "grade": false,
     "grade_id": "cell-b85f0a375953e943",
     "locked": false,
     "schema_version": 3,
     "solution": true,
     "task": false
    }
   },
   "outputs": [
    {
     "name": "stdout",
     "output_type": "stream",
     "text": [
      "1\n",
      "22\n",
      "333\n",
      "4444\n"
     ]
    }
   ],
   "source": [
    "def DoPyramid(n):\n",
    "    \"\"\"\n",
    "    Print a pyramid where the first line starts with 1 and each line contains\n",
    "    the same quantity of elements as the value of i\n",
    "    \"\"\"\n",
    "    for i in range(4) :\n",
    "        print((i+1)*str(i+1))   \n",
    "    \n",
    "DoPyramid(4)"
   ]
  },
  {
   "cell_type": "code",
   "execution_count": 39,
   "metadata": {
    "deletable": false,
    "editable": false,
    "nbgrader": {
     "cell_type": "code",
     "checksum": "51b4ec4e38605dca256137cf25e8a70c",
     "grade": true,
     "grade_id": "cell-bbbf7d1281e8b651",
     "locked": true,
     "points": 3,
     "schema_version": 3,
     "solution": false,
     "task": false
    }
   },
   "outputs": [
    {
     "ename": "AssertionError",
     "evalue": "",
     "output_type": "error",
     "traceback": [
      "\u001b[0;31m---------------------------------------------------------------------------\u001b[0m",
      "\u001b[0;31mAssertionError\u001b[0m                            Traceback (most recent call last)",
      "\u001b[0;32m/tmp/ipykernel_5280/284057149.py\u001b[0m in \u001b[0;36m<cell line: 8>\u001b[0;34m()\u001b[0m\n\u001b[1;32m      6\u001b[0m \u001b[0moutput\u001b[0m \u001b[0;34m=\u001b[0m \u001b[0mf\u001b[0m\u001b[0;34m.\u001b[0m\u001b[0mgetvalue\u001b[0m\u001b[0;34m(\u001b[0m\u001b[0;34m)\u001b[0m\u001b[0;34m\u001b[0m\u001b[0;34m\u001b[0m\u001b[0m\n\u001b[1;32m      7\u001b[0m \u001b[0;34m\u001b[0m\u001b[0m\n\u001b[0;32m----> 8\u001b[0;31m assert output == \"\"\"1\n\u001b[0m\u001b[1;32m      9\u001b[0m \u001b[0;36m22\u001b[0m\u001b[0;34m\u001b[0m\u001b[0;34m\u001b[0m\u001b[0m\n\u001b[1;32m     10\u001b[0m \u001b[0;36m333\u001b[0m\u001b[0;34m\u001b[0m\u001b[0;34m\u001b[0m\u001b[0m\n",
      "\u001b[0;31mAssertionError\u001b[0m: "
     ]
    }
   ],
   "source": [
    "### These lines are only to capture the standart print and be able to compare it\n",
    "import contextlib, io\n",
    "f = io.StringIO()\n",
    "with contextlib.redirect_stdout(f):\n",
    "    DoPyramid(9)\n",
    "output = f.getvalue()\n",
    "\n",
    "assert output == \"\"\"1\n",
    "22\n",
    "333\n",
    "4444\n",
    "55555\n",
    "666666\n",
    "7777777\n",
    "88888888\n",
    "999999999\n",
    "\"\"\""
   ]
  },
  {
   "cell_type": "markdown",
   "metadata": {
    "deletable": false,
    "editable": false,
    "id": "RDyPPW7n2kD9",
    "nbgrader": {
     "cell_type": "markdown",
     "checksum": "657f9033d16e52e5c0594a0ccab7a328",
     "grade": false,
     "grade_id": "cell-d5e8ce36baefdec8",
     "locked": true,
     "schema_version": 3,
     "solution": false,
     "task": false
    }
   },
   "source": [
    "# Excercise #3: Pyramid\n",
    "## Part II [Advance Students]\n",
    "\n",
    "For the advanced students, the excercise will be different. We want to replicate the following pyramid:\n",
    "```python\n",
    "DoAdvPyramid(4):\n",
    "    1    \n",
    "   232\n",
    "  34543\n",
    " 4567654\n",
    "```\n"
   ]
  },
  {
   "cell_type": "code",
   "execution_count": 40,
   "metadata": {},
   "outputs": [],
   "source": [
    "li = [1, 2, 4]"
   ]
  },
  {
   "cell_type": "code",
   "execution_count": 41,
   "metadata": {
    "deletable": false,
    "id": "502kGdy1HD3z",
    "nbgrader": {
     "cell_type": "code",
     "checksum": "8b1f2fa16bec23c36f309d24debc2ea6",
     "grade": false,
     "grade_id": "cell-12bdd91c8379eee1",
     "locked": false,
     "schema_version": 3,
     "solution": true,
     "task": false
    }
   },
   "outputs": [],
   "source": [
    "def DoAdvPyramid(n):\n",
    "    \"\"\"\n",
    "    Print a pyramid where the first line starts with 1 and each line starts\n",
    "    with the number i % 10 and until the middle of the line is reached, the\n",
    "    next number has the next value ((i+1) % 10). After the middle of the line,\n",
    "    the numbers go down on i % 10 (symmetrically to the beginning of the line).\n",
    "    The quantity of spaces should be considered.\n",
    "    \"\"\"\n",
    "    # Do the rest\n",
    "    \n",
    "    # YOUR CODE HERE\n",
    "    raise NotImplementedError()"
   ]
  },
  {
   "cell_type": "code",
   "execution_count": 42,
   "metadata": {
    "deletable": false,
    "editable": false,
    "nbgrader": {
     "cell_type": "code",
     "checksum": "9c65d7c153412d13fc2c6ac0a8cacb06",
     "grade": true,
     "grade_id": "cell-259f9f5d3e79df3d",
     "locked": true,
     "points": 3,
     "schema_version": 3,
     "solution": false,
     "task": false
    }
   },
   "outputs": [
    {
     "ename": "NotImplementedError",
     "evalue": "",
     "output_type": "error",
     "traceback": [
      "\u001b[0;31m---------------------------------------------------------------------------\u001b[0m",
      "\u001b[0;31mNotImplementedError\u001b[0m                       Traceback (most recent call last)",
      "\u001b[0;32m/tmp/ipykernel_5280/4222332412.py\u001b[0m in \u001b[0;36m<cell line: 4>\u001b[0;34m()\u001b[0m\n\u001b[1;32m      3\u001b[0m \u001b[0mf\u001b[0m \u001b[0;34m=\u001b[0m \u001b[0mio\u001b[0m\u001b[0;34m.\u001b[0m\u001b[0mStringIO\u001b[0m\u001b[0;34m(\u001b[0m\u001b[0;34m)\u001b[0m\u001b[0;34m\u001b[0m\u001b[0;34m\u001b[0m\u001b[0m\n\u001b[1;32m      4\u001b[0m \u001b[0;32mwith\u001b[0m \u001b[0mcontextlib\u001b[0m\u001b[0;34m.\u001b[0m\u001b[0mredirect_stdout\u001b[0m\u001b[0;34m(\u001b[0m\u001b[0mf\u001b[0m\u001b[0;34m)\u001b[0m\u001b[0;34m:\u001b[0m\u001b[0;34m\u001b[0m\u001b[0;34m\u001b[0m\u001b[0m\n\u001b[0;32m----> 5\u001b[0;31m     \u001b[0mDoAdvPyramid\u001b[0m\u001b[0;34m(\u001b[0m\u001b[0;36m9\u001b[0m\u001b[0;34m)\u001b[0m\u001b[0;34m\u001b[0m\u001b[0;34m\u001b[0m\u001b[0m\n\u001b[0m\u001b[1;32m      6\u001b[0m \u001b[0moutput\u001b[0m \u001b[0;34m=\u001b[0m \u001b[0mf\u001b[0m\u001b[0;34m.\u001b[0m\u001b[0mgetvalue\u001b[0m\u001b[0;34m(\u001b[0m\u001b[0;34m)\u001b[0m\u001b[0;34m\u001b[0m\u001b[0;34m\u001b[0m\u001b[0m\n\u001b[1;32m      7\u001b[0m \u001b[0;34m\u001b[0m\u001b[0m\n",
      "\u001b[0;32m/tmp/ipykernel_5280/407134138.py\u001b[0m in \u001b[0;36mDoAdvPyramid\u001b[0;34m(n)\u001b[0m\n\u001b[1;32m     10\u001b[0m \u001b[0;34m\u001b[0m\u001b[0m\n\u001b[1;32m     11\u001b[0m     \u001b[0;31m# YOUR CODE HERE\u001b[0m\u001b[0;34m\u001b[0m\u001b[0;34m\u001b[0m\u001b[0;34m\u001b[0m\u001b[0m\n\u001b[0;32m---> 12\u001b[0;31m     \u001b[0;32mraise\u001b[0m \u001b[0mNotImplementedError\u001b[0m\u001b[0;34m(\u001b[0m\u001b[0;34m)\u001b[0m\u001b[0;34m\u001b[0m\u001b[0;34m\u001b[0m\u001b[0m\n\u001b[0m",
      "\u001b[0;31mNotImplementedError\u001b[0m: "
     ]
    }
   ],
   "source": [
    "### These lines are only to capture the standart print and be able to compare it\n",
    "import contextlib, io\n",
    "f = io.StringIO()\n",
    "with contextlib.redirect_stdout(f):\n",
    "    DoAdvPyramid(9)\n",
    "output = f.getvalue()\n",
    "\n",
    "assert output == \"\"\"        1         \n",
    "       232        \n",
    "      34543       \n",
    "     4567654      \n",
    "    567898765     \n",
    "   67890109876    \n",
    "  7890123210987   \n",
    " 890123454321098  \n",
    "90123456765432109 \n",
    "\"\"\""
   ]
  },
  {
   "cell_type": "markdown",
   "metadata": {
    "deletable": false,
    "editable": false,
    "id": "l4uVM9TpnzXi",
    "nbgrader": {
     "cell_type": "markdown",
     "checksum": "15f614cabaac3a3a997cb6d9b19f2dd1",
     "grade": false,
     "grade_id": "cell-63c58465c70502ac",
     "locked": true,
     "schema_version": 3,
     "solution": false,
     "task": false
    }
   },
   "source": [
    "# Exercise 4: Root\tof\tsecond\torder\tpolynomial\twith function\n",
    "## Part I\n",
    "\n",
    "Define a function `Pscnd(x, a, b, c)` that gives the value of second order polynomial:\n",
    "$$ P(x)=ax^2 + bx + c $$"
   ]
  },
  {
   "cell_type": "code",
   "execution_count": 50,
   "metadata": {
    "deletable": false,
    "id": "2HIA46L0nzXj",
    "nbgrader": {
     "cell_type": "code",
     "checksum": "6efa523d3e79193c782ce1764f11d426",
     "grade": false,
     "grade_id": "cell-4d973461cf133178",
     "locked": false,
     "schema_version": 3,
     "solution": true,
     "task": false
    }
   },
   "outputs": [],
   "source": [
    "def Pscnd(x, a, b, c):\n",
    "    A = a*x**2+b*x+c\n",
    "    \n",
    "    return(A)"
   ]
  },
  {
   "cell_type": "markdown",
   "metadata": {
    "deletable": false,
    "editable": false,
    "nbgrader": {
     "cell_type": "markdown",
     "checksum": "0cce667d74f7bb269047661cd5401ca7",
     "grade": false,
     "grade_id": "cell-aaf847988e8ee7cd",
     "locked": true,
     "schema_version": 3,
     "solution": false,
     "task": false
    }
   },
   "source": [
    "Below we check the function for different values."
   ]
  },
  {
   "cell_type": "code",
   "execution_count": 44,
   "metadata": {
    "deletable": false,
    "editable": false,
    "nbgrader": {
     "cell_type": "code",
     "checksum": "16314fb756479a57c7f73c29b27f073f",
     "grade": true,
     "grade_id": "cell-6a542e4dbcdcac35",
     "locked": true,
     "points": 1,
     "schema_version": 3,
     "solution": false,
     "task": false
    }
   },
   "outputs": [],
   "source": [
    "assert abs(Pscnd(1,1,1,1) - 3) < 1e-10\n",
    "assert abs(Pscnd(0,50,50,1) - 1) < 1e-10\n",
    "assert abs(Pscnd(1,2,3,4) - 9) < 1e-10"
   ]
  },
  {
   "cell_type": "markdown",
   "metadata": {
    "deletable": false,
    "editable": false,
    "id": "OglS-oaDnzXm",
    "nbgrader": {
     "cell_type": "markdown",
     "checksum": "fb0c7cae7039b1f3d02105008d2192a7",
     "grade": false,
     "grade_id": "cell-51d40867479e2a49",
     "locked": true,
     "schema_version": 3,
     "solution": false,
     "task": false
    }
   },
   "source": [
    "Define a function `Proot(a, b, c)` that compute the roots the the polynomial $ax^2 +bx+c$ using the same method as before. "
   ]
  },
  {
   "cell_type": "code",
   "execution_count": 57,
   "metadata": {
    "deletable": false,
    "id": "3vQRgpQ0nzXn",
    "nbgrader": {
     "cell_type": "code",
     "checksum": "0bca5f2c720948013524880b8e312824",
     "grade": false,
     "grade_id": "cell-ce26b1e1618144f3",
     "locked": false,
     "schema_version": 3,
     "solution": true,
     "task": false
    }
   },
   "outputs": [],
   "source": [
    "def Proot(a, b, c):\n",
    "\n",
    "    delta=((b**2-4*a*c))\n",
    "\n",
    "\n",
    "    x1=(-b+math.sqrt(delta))/(2*a)\n",
    "    \n",
    "    x2=(-b-math.sqrt(delta))/(2*a)\n",
    "\n",
    "    return(x1,x2)\n",
    "\n",
    "\n"
   ]
  },
  {
   "cell_type": "markdown",
   "metadata": {
    "deletable": false,
    "editable": false,
    "id": "G0IPsygRnzXq",
    "nbgrader": {
     "cell_type": "markdown",
     "checksum": "292ca2b99619ce3883e48b3f1be38db1",
     "grade": false,
     "grade_id": "cell-38c8a8fb5312e1ac",
     "locked": true,
     "schema_version": 3,
     "solution": false,
     "task": false
    }
   },
   "source": [
    "Check your two functions with the polynoms\n",
    "$$2x^2 + 5x - 2 = 0$$\n",
    "$$x^2 + 3x - 3.5 = 0$$\n",
    "You must obtain the same result as before"
   ]
  },
  {
   "cell_type": "code",
   "execution_count": 58,
   "metadata": {
    "id": "Ueuz9fZSnzXq"
   },
   "outputs": [
    {
     "name": "stdout",
     "output_type": "stream",
     "text": [
      "0.35078105935821213 -2.850781059358212\n",
      "0.8979157616563596 -3.8979157616563596\n"
     ]
    }
   ],
   "source": [
    "x1, x2 = Proot(2,5,-2)\n",
    "print(x1, x2)\n",
    "\n",
    "x1, x2 = Proot(1,3,-3.5)\n",
    "print(x1, x2)"
   ]
  },
  {
   "cell_type": "code",
   "execution_count": 60,
   "metadata": {
    "deletable": false,
    "editable": false,
    "nbgrader": {
     "cell_type": "code",
     "checksum": "adb4d8aeaab35ff7d62edc693d3e0010",
     "grade": true,
     "grade_id": "cell-08c5945704db5a60",
     "locked": true,
     "points": 0,
     "schema_version": 3,
     "solution": false,
     "task": false
    }
   },
   "outputs": [],
   "source": [
    "a=2; b=5; c=-1\n",
    "x1, x2 = Proot(a, b, c)\n",
    "assert abs(Pscnd(x1, a, b, c)) < 1e-10\n",
    "assert abs(Pscnd(x2, a, b, c)) < 1e-10\n",
    "\n",
    "a=1; b=3; c=-5\n",
    "x1, x2 = Proot(a, b, c)\n",
    "assert abs(Pscnd(x1, a, b, c)) < 1e-10\n",
    "assert abs(Pscnd(x2, a, b, c)) < 1e-10"
   ]
  },
  {
   "cell_type": "markdown",
   "metadata": {
    "deletable": false,
    "editable": false,
    "id": "0niMkjXynzX0",
    "nbgrader": {
     "cell_type": "markdown",
     "checksum": "88bba2da3a9e16db35f0ca64a0f9a28f",
     "grade": false,
     "grade_id": "cell-05bffae4ec3ceb73",
     "locked": true,
     "schema_version": 3,
     "solution": false,
     "task": false
    }
   },
   "source": [
    "# Exercise 4: Root\tof\tsecond\torder\tpolynomial\twith function\n",
    "## Part II \n",
    "What happen with your function and the polynom $-x^2 + 3x - 3.5 =0$ ?"
   ]
  },
  {
   "cell_type": "code",
   "execution_count": 61,
   "metadata": {
    "id": "kIIX9ajDnzX1"
   },
   "outputs": [
    {
     "ename": "ValueError",
     "evalue": "math domain error",
     "output_type": "error",
     "traceback": [
      "\u001b[1;31m---------------------------------------------------------------------------\u001b[0m",
      "\u001b[1;31mValueError\u001b[0m                                Traceback (most recent call last)",
      "Cell \u001b[1;32mIn [61], line 1\u001b[0m\n\u001b[1;32m----> 1\u001b[0m \u001b[43mProot\u001b[49m\u001b[43m(\u001b[49m\u001b[38;5;241;43m-\u001b[39;49m\u001b[38;5;241;43m1\u001b[39;49m\u001b[43m,\u001b[49m\u001b[43m \u001b[49m\u001b[38;5;241;43m3\u001b[39;49m\u001b[43m,\u001b[49m\u001b[43m \u001b[49m\u001b[38;5;241;43m-\u001b[39;49m\u001b[38;5;241;43m3.5\u001b[39;49m\u001b[43m)\u001b[49m\n",
      "Cell \u001b[1;32mIn [57], line 6\u001b[0m, in \u001b[0;36mProot\u001b[1;34m(a, b, c)\u001b[0m\n\u001b[0;32m      1\u001b[0m \u001b[38;5;28;01mdef\u001b[39;00m \u001b[38;5;21mProot\u001b[39m(a, b, c):\n\u001b[0;32m      3\u001b[0m     delta\u001b[38;5;241m=\u001b[39m((b\u001b[38;5;241m*\u001b[39m\u001b[38;5;241m*\u001b[39m\u001b[38;5;241m2\u001b[39m\u001b[38;5;241m-\u001b[39m\u001b[38;5;241m4\u001b[39m\u001b[38;5;241m*\u001b[39ma\u001b[38;5;241m*\u001b[39mc))\n\u001b[1;32m----> 6\u001b[0m     x1\u001b[38;5;241m=\u001b[39m(\u001b[38;5;241m-\u001b[39mb\u001b[38;5;241m+\u001b[39m\u001b[43mmath\u001b[49m\u001b[38;5;241;43m.\u001b[39;49m\u001b[43msqrt\u001b[49m\u001b[43m(\u001b[49m\u001b[43mdelta\u001b[49m\u001b[43m)\u001b[49m)\u001b[38;5;241m/\u001b[39m(\u001b[38;5;241m2\u001b[39m\u001b[38;5;241m*\u001b[39ma)\n\u001b[0;32m      8\u001b[0m     x2\u001b[38;5;241m=\u001b[39m(\u001b[38;5;241m-\u001b[39mb\u001b[38;5;241m-\u001b[39mmath\u001b[38;5;241m.\u001b[39msqrt(delta))\u001b[38;5;241m/\u001b[39m(\u001b[38;5;241m2\u001b[39m\u001b[38;5;241m*\u001b[39ma)\n\u001b[0;32m     10\u001b[0m     \u001b[38;5;28;01mreturn\u001b[39;00m(x1,x2)\n",
      "\u001b[1;31mValueError\u001b[0m: math domain error"
     ]
    }
   ],
   "source": [
    "Proot(-1, 3, -3.5)"
   ]
  },
  {
   "cell_type": "markdown",
   "metadata": {
    "deletable": false,
    "editable": false,
    "id": "lzYh_rlnnzX3",
    "nbgrader": {
     "cell_type": "markdown",
     "checksum": "98dddb3bf875780441ed79557e9e4203",
     "grade": false,
     "grade_id": "cell-014f82d2f0e31ea1",
     "locked": true,
     "schema_version": 3,
     "solution": false,
     "task": false
    }
   },
   "source": [
    "The equivalent to the package `math` for complex number is `cmath`.\n",
    "\n",
    "Define `cmplxProot` that works for this new polynom "
   ]
  },
  {
   "cell_type": "code",
   "execution_count": 62,
   "metadata": {
    "deletable": false,
    "id": "tTDfLt88nzX4",
    "nbgrader": {
     "cell_type": "code",
     "checksum": "02f899f9fbc13da0c47d297a76d31f53",
     "grade": false,
     "grade_id": "cell-8db8784cd3d1b6f6",
     "locked": false,
     "schema_version": 3,
     "solution": true,
     "task": false
    }
   },
   "outputs": [],
   "source": [
    "import cmath\n",
    "def cmplxProot(a, b, c):\n",
    "    delta=((b**2-4*a*c))\n",
    "    x1=(-b+cmath.sqrt(delta))/(2*a)\n",
    "    x2=(-b-cmath.sqrt(delta))/(2*a)\n",
    "    return(x1,x2)\n",
    "\n",
    "    raise NotImplementedError"
   ]
  },
  {
   "cell_type": "code",
   "execution_count": 63,
   "metadata": {
    "deletable": false,
    "editable": false,
    "nbgrader": {
     "cell_type": "code",
     "checksum": "0c35b74dadf54ef2e4e3c625758ad012",
     "grade": true,
     "grade_id": "cell-5d5dbc0c00445860",
     "locked": true,
     "points": 2,
     "schema_version": 3,
     "solution": false,
     "task": false
    }
   },
   "outputs": [],
   "source": [
    "a=-1; b=3; c=-35\n",
    "x1, x2 = cmplxProot(a, b, c)\n",
    "assert abs(Pscnd(x1, a, b, c)) < 1e-10\n",
    "assert abs(Pscnd(x2, a, b, c)) < 1e-10"
   ]
  },
  {
   "cell_type": "markdown",
   "metadata": {
    "deletable": false,
    "editable": false,
    "nbgrader": {
     "cell_type": "markdown",
     "checksum": "38e3d765ad4c4afc1230042b4ca8ee96",
     "grade": false,
     "grade_id": "cell-ea81b4efe8463802",
     "locked": true,
     "schema_version": 3,
     "solution": false,
     "task": false
    }
   },
   "source": [
    "# Exercise 4: Root\tof\tsecond\torder\tpolynomial\twith function\n",
    "## Part II [Advance Students]\n",
    "Of course there is a library in python that do this work. Create a function `cmplxProotAdvance` that use the library `scipy`"
   ]
  },
  {
   "cell_type": "code",
   "execution_count": 65,
   "metadata": {
    "deletable": false,
    "nbgrader": {
     "cell_type": "code",
     "checksum": "15f56fffe701562cc9df61dfe25015a8",
     "grade": false,
     "grade_id": "cell-ee9e9bcdfe25577e",
     "locked": false,
     "schema_version": 3,
     "solution": true,
     "task": false
    }
   },
   "outputs": [
    {
     "ename": "ModuleNotFoundError",
     "evalue": "No module named 'scipy'",
     "output_type": "error",
     "traceback": [
      "\u001b[1;31m---------------------------------------------------------------------------\u001b[0m",
      "\u001b[1;31mModuleNotFoundError\u001b[0m                       Traceback (most recent call last)",
      "Cell \u001b[1;32mIn [65], line 1\u001b[0m\n\u001b[1;32m----> 1\u001b[0m \u001b[38;5;28;01mfrom\u001b[39;00m \u001b[38;5;21;01mscipy\u001b[39;00m \u001b[38;5;28;01mimport\u001b[39;00m optimize\n\u001b[0;32m      2\u001b[0m \u001b[38;5;28;01mdef\u001b[39;00m \u001b[38;5;21mcmplxProotAdvance\u001b[39m(a, b, c):\n\u001b[0;32m      3\u001b[0m     \u001b[38;5;66;03m# YOUR CODE HERE\u001b[39;00m\n\u001b[0;32m      4\u001b[0m     \u001b[38;5;28;01mraise\u001b[39;00m \u001b[38;5;167;01mNotImplementedError\u001b[39;00m\n",
      "\u001b[1;31mModuleNotFoundError\u001b[0m: No module named 'scipy'"
     ]
    }
   ],
   "source": [
    "from scipy import optimize\n",
    "def cmplxProotAdvance(a, b, c):\n",
    "    # YOUR CODE HERE\n",
    "    raise NotImplementedError"
   ]
  },
  {
   "cell_type": "markdown",
   "metadata": {
    "deletable": false,
    "editable": false,
    "id": "GJ6seB70nzX6",
    "nbgrader": {
     "cell_type": "markdown",
     "checksum": "38e97e8131f1b8e1bdd0ff59ea6bf5f0",
     "grade": false,
     "grade_id": "cell-d526b5bb4e42bc67",
     "locked": true,
     "schema_version": 3,
     "solution": false,
     "task": false
    }
   },
   "source": [
    "## Lists\n",
    "\n",
    "It is usualy a bad idea to store each and every value in it's own variable. When working on a lot of data this will represent a lot of variables, and it will not be easy to write loops with them.\n",
    "\n",
    "So the idea is to store multiple values inside one variable.  \n",
    "For exemple here, we will use a list.\n",
    "\n",
    "```python\n",
    "A = [4, 2, 8, 6, -5, 79, 15, 0, 2]\n",
    "print(A)\n",
    "print(\"Size of the list: \", len(A))\n",
    "```\n",
    "\n",
    "Thoses values are ordered and you can use slicing to access them\n",
    " * `A[1]` : 2nd item\n",
    " * `A[-1]` : last item\n",
    " * `A[4:8]` : sublist (i.e. 5th, 6th and 7th item)\n",
    " * `A[4:8:2]` : sublist by step of 2 (i.e. 5th and 7th item)\n",
    "\n",
    "In the next cell create a list with 7 values and exchange the 4th and the 2nd"
   ]
  },
  {
   "cell_type": "code",
   "execution_count": 68,
   "metadata": {
    "deletable": false,
    "id": "-89jIsjtnzX7",
    "nbgrader": {
     "cell_type": "code",
     "checksum": "e67fb5e20fbf9de5c1cda11961a8468d",
     "grade": false,
     "grade_id": "cell-5592a771c96f0e43",
     "locked": false,
     "schema_version": 3,
     "solution": true,
     "task": false
    }
   },
   "outputs": [
    {
     "name": "stdout",
     "output_type": "stream",
     "text": [
      "[8, 9, -45, 145, 67, 97, 1]\n"
     ]
    }
   ],
   "source": [
    "A=[8, 9, 67, 145, -45, 97, 1]\n",
    "nb = A[4]\n",
    "A[4] = A[2]\n",
    "A[2] = nb\n",
    "\n",
    "print(A)\n"
   ]
  },
  {
   "cell_type": "markdown",
   "metadata": {
    "deletable": false,
    "editable": false,
    "id": "VcJq6kjODAeZ",
    "nbgrader": {
     "cell_type": "markdown",
     "checksum": "5103707a76132d03e62646471bcc72f1",
     "grade": false,
     "grade_id": "cell-9ecd83b2d5a919a4",
     "locked": true,
     "schema_version": 3,
     "solution": false,
     "task": false
    }
   },
   "source": [
    "There is one imortant this to keep in mind. variables can points to the same thing.  \n",
    "Most thing in python cannot change in time, so there is no problem.  \n",
    "But some can change. Lists are one of them.\n",
    "\n",
    "In the next cell, B and A are to variables pointing to the same list.\n",
    "\n",
    "Modifying B is modifying the list, thus it's modifying A"
   ]
  },
  {
   "cell_type": "code",
   "execution_count": 60,
   "metadata": {
    "id": "XY6MdLiJC_Sb"
   },
   "outputs": [
    {
     "name": "stdout",
     "output_type": "stream",
     "text": [
      "[1, 4, 3]\n"
     ]
    }
   ],
   "source": [
    "A = [1, 2, 3]\n",
    "B = A\n",
    "B[1] = 4\n",
    "print(A)"
   ]
  },
  {
   "cell_type": "markdown",
   "metadata": {
    "deletable": false,
    "editable": false,
    "id": "UHTq3YHNEC-H",
    "nbgrader": {
     "cell_type": "markdown",
     "checksum": "a5fc9b90d4b0ec38fd36509fd3937d55",
     "grade": false,
     "grade_id": "cell-771fa772c4418f9e",
     "locked": true,
     "schema_version": 3,
     "solution": false,
     "task": false
    }
   },
   "source": [
    "If you want to duplicate a list, make explicitly a copy"
   ]
  },
  {
   "cell_type": "code",
   "execution_count": 69,
   "metadata": {
    "id": "oC_dsJlOEDIh"
   },
   "outputs": [
    {
     "name": "stdout",
     "output_type": "stream",
     "text": [
      "[1, 2, 3] [1, 4, 3]\n"
     ]
    }
   ],
   "source": [
    "A = [1, 2, 3]\n",
    "B = A.copy()\n",
    "B[1] = 4\n",
    "print(A, B)"
   ]
  },
  {
   "cell_type": "markdown",
   "metadata": {
    "deletable": false,
    "editable": false,
    "id": "GNkrU6jyfPkH",
    "nbgrader": {
     "cell_type": "markdown",
     "checksum": "579decf78e4dd804b0a6f0a5a10628aa",
     "grade": false,
     "grade_id": "cell-b71ceb82f5c1ec13",
     "locked": true,
     "schema_version": 3,
     "solution": false,
     "task": false
    }
   },
   "source": [
    "A list can contains different types inside. "
   ]
  },
  {
   "cell_type": "code",
   "execution_count": 71,
   "metadata": {},
   "outputs": [
    {
     "name": "stdout",
     "output_type": "stream",
     "text": [
      "A = ['Name', 3, False, 3.141592653589793]\n"
     ]
    }
   ],
   "source": [
    "A = [\"Name\", 3, False, math.pi]\n",
    "print(\"A =\", A)"
   ]
  },
  {
   "cell_type": "markdown",
   "metadata": {},
   "source": [
    "Even a list can contain another list."
   ]
  },
  {
   "cell_type": "code",
   "execution_count": 72,
   "metadata": {},
   "outputs": [
    {
     "name": "stdout",
     "output_type": "stream",
     "text": [
      "B = [[[1, 2], [3, 4]], [5, 6], 7]\n",
      "B[0] = [[1, 2], [3, 4]]\n",
      "B[0][1] = [3, 4]\n",
      "B[0][1][0] = 3\n",
      "B[2] = 7\n"
     ]
    }
   ],
   "source": [
    "B = [[[1, 2], [3, 4]],[5,6], 7]\n",
    "print(\"B =\", B)\n",
    "print(\"B[0] =\",B[0])\n",
    "print(\"B[0][1] =\",B[0][1])\n",
    "print(\"B[0][1][0] =\",B[0][1][0])\n",
    "print(\"B[2] =\",B[2])"
   ]
  },
  {
   "cell_type": "markdown",
   "metadata": {
    "deletable": false,
    "editable": false,
    "nbgrader": {
     "cell_type": "markdown",
     "checksum": "20542c6304d19690f4bb90b9b29dab0e",
     "grade": false,
     "grade_id": "cell-a294707b2d02b145",
     "locked": true,
     "schema_version": 3,
     "solution": false,
     "task": false
    }
   },
   "source": [
    "# Excercise #5: List management\n",
    "## Part I"
   ]
  },
  {
   "cell_type": "markdown",
   "metadata": {
    "deletable": false,
    "editable": false,
    "nbgrader": {
     "cell_type": "markdown",
     "checksum": "bde4940b41f3d9371df3dffde849127d",
     "grade": false,
     "grade_id": "cell-2f85b4bd1798ae4d",
     "locked": true,
     "schema_version": 3,
     "solution": false,
     "task": false
    }
   },
   "source": [
    "Now, lets analyze the following list:"
   ]
  },
  {
   "cell_type": "code",
   "execution_count": 85,
   "metadata": {
    "id": "SDzL27SuJnXG"
   },
   "outputs": [],
   "source": [
    "A = [[\"Test c\", \"Fail\"],   [\"Test a\", \"Fail\"],   [\"Test b\", \"Success\"], \n",
    "     [\"Test c\", \"Fail\"],   [\"Test b\", \"Success\"], [\"Test c\", \"Success\"], \n",
    "     [\"Test c\", \"Fail\"],   [\"Test b\", \"Success\"], [\"Test c\", \"Fail\"], \n",
    "     [\"Test b\", \"Success\"], [\"Test b\", \"Success\"], [\"Test c\", \"Success\"], \n",
    "     [\"Test c\", \"Fail\"],   [\"Test b\", \"Success\"], [\"Test b\", \"Success\"]]\n",
    "\n",
    "\n",
    "\n",
    "\n"
   ]
  },
  {
   "cell_type": "markdown",
   "metadata": {
    "id": "2jeXYJq3ab_V"
   },
   "source": [
    "Each element correspond to a test done in a person.\n",
    "The test can `Success` or `Fail`. We can use the knowledge viewed today to analyze and extract information from it.\n",
    " \n",
    "Lets do an excercise to see how we can manage and extract some informations from the lists.\n",
    "\n",
    "First we will create three functions:\n",
    "\n",
    "```python\n",
    "RecoverListOfTests(A)\n",
    "['Test b', 'Test a', 'Test c']\n",
    "```\n"
   ]
  },
  {
   "cell_type": "code",
   "execution_count": 89,
   "metadata": {
    "deletable": false,
    "id": "z2i1oXAufrYJ",
    "nbgrader": {
     "cell_type": "code",
     "checksum": "e33c0605a8f71c095470c438616f9766",
     "grade": false,
     "grade_id": "cell-5c26b64b1b5a5872",
     "locked": false,
     "schema_version": 3,
     "solution": true,
     "task": false
    }
   },
   "outputs": [
    {
     "name": "stdout",
     "output_type": "stream",
     "text": [
      "['Test c', 'Test b', 'Test a']\n"
     ]
    }
   ],
   "source": [
    " def RecoverListOfTests(big_list):\n",
    "    \n",
    "    listOfTest=[]\n",
    "    for i in range(len(big_list)):\n",
    "        listOfTest.append(A[i][0])\n",
    "    return(list(set(listOfTest)))\n",
    "\n",
    "\n",
    "n=RecoverListOfTests(A)\n",
    "print(n)\n"
   ]
  },
  {
   "cell_type": "code",
   "execution_count": 77,
   "metadata": {
    "deletable": false,
    "editable": false,
    "id": "vklyEn6tgjEp",
    "nbgrader": {
     "cell_type": "code",
     "checksum": "3a9c76f9016afbbeefabe138d536eed3",
     "grade": true,
     "grade_id": "cell-4992b1d78b59f40a",
     "locked": true,
     "points": 2,
     "schema_version": 3,
     "solution": false,
     "task": false
    }
   },
   "outputs": [],
   "source": [
    "assert RecoverListOfTests([[\"Test c\", \"Fail\"]]) == [\"Test c\"]\n",
    "assert len(RecoverListOfTests([])) == 0\n",
    "assert (len(RecoverListOfTests(A)) == 3) and (set(RecoverListOfTests(A)) == set(['Test b', 'Test a', 'Test c']))\n"
   ]
  },
  {
   "cell_type": "markdown",
   "metadata": {
    "deletable": false,
    "editable": false,
    "id": "KV8uLy3ThUaZ",
    "nbgrader": {
     "cell_type": "markdown",
     "checksum": "7a0ba2fec50301638863708cf89c924f",
     "grade": false,
     "grade_id": "cell-93873d8e31c55051",
     "locked": true,
     "schema_version": 3,
     "solution": false,
     "task": false
    }
   },
   "source": [
    "# Excercise #5: List management\n",
    "## Part II\n",
    "Now, lets create a function that calculates the percentage of succeed of the test specified.\n",
    "```python\n",
    "PercentageOfSuccess(\"Test c\",A)\n",
    "28.57142857142857\n",
    "```"
   ]
  },
  {
   "cell_type": "code",
   "execution_count": 102,
   "metadata": {
    "deletable": false,
    "id": "oTBmET15hZQT",
    "nbgrader": {
     "cell_type": "code",
     "checksum": "a73d9194088c7f5071113e1871e0ee12",
     "grade": false,
     "grade_id": "cell-a9269727f3af8658",
     "locked": false,
     "schema_version": 3,
     "solution": true,
     "task": false
    }
   },
   "outputs": [],
   "source": [
    " def PercentageOfSuccess(test,big_list):\n",
    "    \"\"\"\n",
    "    Create a function who calculates the percentage of succeed of the test \n",
    "    given\n",
    "    \"\"\"\n",
    "    a=0\n",
    "    b=0\n",
    "    for i in range (len(big_list)):\n",
    "        if (big_list[i][0])==test:\n",
    "            a=a+1\n",
    "            if (big_list[i][1])==\"Success\" :\n",
    "                b=b+1\n",
    "\n",
    "    x=(b/a)*100\n",
    "    return x\n"
   ]
  },
  {
   "cell_type": "code",
   "execution_count": 100,
   "metadata": {
    "deletable": false,
    "editable": false,
    "nbgrader": {
     "cell_type": "code",
     "checksum": "5b34b0b1ff4bdbf84d7eb2e0017af185",
     "grade": true,
     "grade_id": "cell-473b67fe7550a701",
     "locked": true,
     "points": 0,
     "schema_version": 3,
     "solution": false,
     "task": false
    }
   },
   "outputs": [],
   "source": [
    "assert abs(PercentageOfSuccess(\"Test c\", [[\"Test c\", \"Fail\"]])-0) < 0.1\n",
    "assert abs(PercentageOfSuccess(\"Test a\", A)-0.0) < 0.1\n",
    "assert abs(PercentageOfSuccess(\"Test b\", A)-100.0) < 0.1\n",
    "assert abs(PercentageOfSuccess(\"Test c\", A)-28.57) < 0.1\n"
   ]
  },
  {
   "cell_type": "markdown",
   "metadata": {
    "deletable": false,
    "editable": false,
    "id": "kDyVoT4yi81-",
    "nbgrader": {
     "cell_type": "markdown",
     "checksum": "de4748fc710f776dc856bfd6ccacb86f",
     "grade": false,
     "grade_id": "cell-80c307ead1a3cc6e",
     "locked": true,
     "schema_version": 3,
     "solution": false,
     "task": false
    }
   },
   "source": [
    "# Excercise #5: List management\n",
    "## Part III\n",
    "To finish, lets create a function that uses the information of the previous one to generate the stats for all the tests.\n",
    "\n",
    "```python\n",
    "StatsOfTheList(A)\n",
    "'Percentage of success in Test b is = 100.0'\n",
    "'Percentage of success in Test a is = 0.0'\n",
    "'Percentage of success in Test c is = 28.57142857142857'\n",
    "```\n"
   ]
  },
  {
   "cell_type": "code",
   "execution_count": 103,
   "metadata": {
    "deletable": false,
    "id": "MlbbiNaxjDyv",
    "nbgrader": {
     "cell_type": "code",
     "checksum": "32dcd8c6d01411405d4d94b8dc82a67e",
     "grade": false,
     "grade_id": "cell-24fe8dfd6d28bcee",
     "locked": false,
     "schema_version": 3,
     "solution": true,
     "task": false
    }
   },
   "outputs": [
    {
     "name": "stdout",
     "output_type": "stream",
     "text": [
      "28.57142857142857\n",
      "100.0\n",
      "0.0\n"
     ]
    }
   ],
   "source": [
    " def StatsOfTheList(big_list):\n",
    "    \"\"\"\n",
    "    Create a function gives the stats of success for all the tests\n",
    "    \"\"\"\n",
    "    n=RecoverListOfTests(big_list)\n",
    "    for i in range (len(n)):\n",
    "        test=n[i]\n",
    "        print (PercentageOfSuccess(test,big_list))\n",
    "        \n",
    "StatsOfTheList(A)"
   ]
  },
  {
   "cell_type": "markdown",
   "metadata": {
    "deletable": false,
    "editable": false,
    "id": "y3lQto2BjaaQ",
    "nbgrader": {
     "cell_type": "markdown",
     "checksum": "cb8cfba4c3c5c8507633ebcc185ad396",
     "grade": false,
     "grade_id": "cell-fd4820e4a8089857",
     "locked": true,
     "schema_version": 3,
     "solution": false,
     "task": false
    }
   },
   "source": [
    "# Excercise #5: List management\n",
    "## Part IV [AdvanceStudents]\n",
    "This excercise can be done with the `pandas` library. Try to do it using it.\n",
    "[Pandas](https://pandas.pydata.org/)"
   ]
  },
  {
   "cell_type": "code",
   "execution_count": 57,
   "metadata": {
    "deletable": false,
    "id": "Dxc8SchNj-de",
    "nbgrader": {
     "cell_type": "code",
     "checksum": "e2e0a018786b68d6cc32ae75f77b8cd4",
     "grade": false,
     "grade_id": "cell-f0325fb2c4f4bceb",
     "locked": false,
     "schema_version": 3,
     "solution": true,
     "task": false
    }
   },
   "outputs": [
    {
     "ename": "NotImplementedError",
     "evalue": "",
     "output_type": "error",
     "traceback": [
      "\u001b[0;31m---------------------------------------------------------------------------\u001b[0m",
      "\u001b[0;31mNotImplementedError\u001b[0m                       Traceback (most recent call last)",
      "\u001b[0;32m/tmp/ipykernel_5280/44458077.py\u001b[0m in \u001b[0;36m<cell line: 3>\u001b[0;34m()\u001b[0m\n\u001b[1;32m      1\u001b[0m \u001b[0;32mimport\u001b[0m \u001b[0mpandas\u001b[0m \u001b[0;32mas\u001b[0m \u001b[0mpd\u001b[0m\u001b[0;34m\u001b[0m\u001b[0;34m\u001b[0m\u001b[0m\n\u001b[1;32m      2\u001b[0m \u001b[0;31m# YOUR CODE HERE\u001b[0m\u001b[0;34m\u001b[0m\u001b[0;34m\u001b[0m\u001b[0;34m\u001b[0m\u001b[0m\n\u001b[0;32m----> 3\u001b[0;31m \u001b[0;32mraise\u001b[0m \u001b[0mNotImplementedError\u001b[0m\u001b[0;34m(\u001b[0m\u001b[0;34m)\u001b[0m\u001b[0;34m\u001b[0m\u001b[0;34m\u001b[0m\u001b[0m\n\u001b[0m",
      "\u001b[0;31mNotImplementedError\u001b[0m: "
     ]
    }
   ],
   "source": [
    "import pandas as pd\n",
    "# YOUR CODE HERE\n",
    "raise NotImplementedError()"
   ]
  },
  {
   "cell_type": "markdown",
   "metadata": {
    "deletable": false,
    "editable": false,
    "id": "3mwDvKZynzX-",
    "nbgrader": {
     "cell_type": "markdown",
     "checksum": "85994769d58a0f526c7e91251ebce5c7",
     "grade": false,
     "grade_id": "cell-c749e8f98efa4f7c",
     "locked": true,
     "schema_version": 3,
     "solution": false,
     "task": false
    }
   },
   "source": [
    "# Do not forget\n",
    "\n",
    "Before sending this notebook to me, **restart the kernel, and reexecute all the cells in order.**\n",
    "\n",
    "Once all cells have been filled and executed,\n",
    " * **save this document as a pdf file** (by printing it)  \n",
    " * **Check** that everything is present on the produced pdf  \n",
    " * **Send the pdf AND the notebook** to me via Universitice  \n",
    "\n",
    "This will be used to evaluate you.\n",
    "\n",
    "# That's it for today !"
   ]
  },
  {
   "cell_type": "markdown",
   "metadata": {
    "deletable": false,
    "editable": false,
    "id": "1fVpmROj-Jo6",
    "nbgrader": {
     "cell_type": "markdown",
     "checksum": "6c2693606501e2a9e5391967a0c98c58",
     "grade": false,
     "grade_id": "cell-ab4ffffa8744225e",
     "locked": true,
     "points": 0,
     "schema_version": 3,
     "solution": false,
     "task": true
    }
   },
   "source": [
    "Write here an rough estimation of the time you spent on this TP.  \n",
    "This will **not** be used to evaluate you,  \n",
    "but to will allow me to better adjust the complexities of the TP.\n",
    "\n",
    "Time spent: *h"
   ]
  },
  {
   "cell_type": "code",
   "execution_count": null,
   "metadata": {},
   "outputs": [],
   "source": []
  },
  {
   "cell_type": "code",
   "execution_count": null,
   "metadata": {},
   "outputs": [],
   "source": []
  },
  {
   "cell_type": "code",
   "execution_count": null,
   "metadata": {},
   "outputs": [],
   "source": []
  },
  {
   "cell_type": "code",
   "execution_count": null,
   "metadata": {},
   "outputs": [],
   "source": []
  },
  {
   "cell_type": "code",
   "execution_count": null,
   "metadata": {},
   "outputs": [],
   "source": []
  },
  {
   "cell_type": "code",
   "execution_count": null,
   "metadata": {},
   "outputs": [],
   "source": []
  },
  {
   "cell_type": "code",
   "execution_count": null,
   "metadata": {},
   "outputs": [],
   "source": []
  },
  {
   "cell_type": "code",
   "execution_count": null,
   "metadata": {},
   "outputs": [],
   "source": []
  },
  {
   "cell_type": "code",
   "execution_count": null,
   "metadata": {},
   "outputs": [],
   "source": [
    "\n"
   ]
  }
 ],
 "metadata": {
  "colab": {
   "collapsed_sections": [],
   "name": "Starting_with_python_TV4.ipynb",
   "provenance": []
  },
  "kernelspec": {
   "display_name": "Python 3 (ipykernel)",
   "language": "python",
   "name": "python3"
  },
  "language_info": {
   "codemirror_mode": {
    "name": "ipython",
    "version": 3
   },
   "file_extension": ".py",
   "mimetype": "text/x-python",
   "name": "python",
   "nbconvert_exporter": "python",
   "pygments_lexer": "ipython3",
   "version": "3.10.0"
  }
 },
 "nbformat": 4,
 "nbformat_minor": 4
}
